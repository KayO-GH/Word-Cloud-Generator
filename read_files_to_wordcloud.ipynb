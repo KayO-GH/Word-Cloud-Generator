{
  "cells": [
    {
      "cell_type": "markdown",
      "source": [
        "### Notes"
      ],
      "metadata": {
        "id": "tPEZy9qxw67x"
      }
    },
    {
      "cell_type": "markdown",
      "metadata": {
        "id": "a-_Xj0erig13"
      },
      "source": [
        "#### Scenarios:\n",
        "1. Single file -> Single word cloud\n",
        "2. Multiple files -> Single word cloud\n",
        "3. Multiple files -> Multiple word clouds + Combined word cloud\n",
        "\n",
        "#### Limitations:\n",
        "* Text in images cannot be read. Here is a [workaround](https://www.thewindowsclub.com/extract-text-from-an-image-in-word) to extract text from images.\n",
        "* Scanned PDFs _(You know a PDF was scanned if you can't select text with your mouse when you open it normally)_\n",
        "    * SOTA OCR methods are still not perfect\n",
        "    * OCR text recognition takes longer to run\n",
        "    * \\*Key takeaway: If you can get a machine-generated PDF, use that, else tag your **scanned PDF** files properly by renaming the to end with `_scanned.pdf`"
      ]
    },
    {
      "cell_type": "markdown",
      "metadata": {
        "id": "wV_0pbrIig2F"
      },
      "source": [
        "---"
      ]
    },
    {
      "cell_type": "markdown",
      "source": [
        "### Installations"
      ],
      "metadata": {
        "id": "XmyK_TA1wYbQ"
      }
    },
    {
      "cell_type": "markdown",
      "metadata": {
        "id": "qnOLVcX3ig2L"
      },
      "source": [
        "Install necessary libraries:  \n",
        "* **iPython Widgets** - For creating buttons\n",
        "* **NLTK** - For basic NLP, like getting stop words\n",
        "* **PDF Plumber** - For reading machine generated PDFs\n",
        "* **PyMuPDF (fitz)** - For reading scanned PDFs\n",
        "* **PyTesseract** - For OCR in conjunction with fitz pages\n",
        "* **TQDM** - Progress bar"
      ]
    },
    {
      "cell_type": "code",
      "source": [
        "!pip install ipywidgets -q\n",
        "!pip install nltk -q\n",
        "!pip install pdfplumber -q\n",
        "!pip install pymupdf -q\n",
        "!pip install pytesseract -q\n",
        "!pip install tqdm -q"
      ],
      "metadata": {
        "id": "fp5hJcQ8C-BX",
        "outputId": "315da2d5-f15c-448a-918d-9e0368c5b655",
        "colab": {
          "base_uri": "https://localhost:8080/"
        }
      },
      "execution_count": 1,
      "outputs": [
        {
          "output_type": "stream",
          "name": "stdout",
          "text": [
            "\u001b[K     |████████████████████████████████| 139 kB 8.0 MB/s \n",
            "\u001b[K     |████████████████████████████████| 3.1 MB 47.1 MB/s \n",
            "\u001b[K     |████████████████████████████████| 5.6 MB 42.2 MB/s \n",
            "\u001b[K     |████████████████████████████████| 4.0 MB 3.0 MB/s \n",
            "\u001b[31mERROR: pip's dependency resolver does not currently take into account all the packages that are installed. This behaviour is the source of the following dependency conflicts.\n",
            "albumentations 0.1.12 requires imgaug<0.2.7,>=0.2.5, but you have imgaug 0.2.9 which is incompatible.\u001b[0m\n",
            "\u001b[K     |████████████████████████████████| 8.8 MB 6.5 MB/s \n",
            "\u001b[?25h"
          ]
        }
      ]
    },
    {
      "cell_type": "code",
      "execution_count": 2,
      "metadata": {
        "colab": {
          "base_uri": "https://localhost:8080/"
        },
        "id": "0qf4vfagig2o",
        "outputId": "ca9f1abf-0e09-4286-df92-17015cf9e177"
      },
      "outputs": [
        {
          "output_type": "stream",
          "name": "stdout",
          "text": [
            "49 packages can be upgraded. Run 'apt list --upgradable' to see them.\n",
            "The following package was automatically installed and is no longer required:\n",
            "  libnvidia-common-460\n",
            "Use 'sudo apt autoremove' to remove it.\n",
            "The following additional packages will be installed:\n",
            "  tesseract-ocr-eng tesseract-ocr-osd\n",
            "The following NEW packages will be installed:\n",
            "  tesseract-ocr tesseract-ocr-eng tesseract-ocr-osd\n",
            "0 upgraded, 3 newly installed, 0 to remove and 49 not upgraded.\n",
            "Need to get 4,795 kB of archives.\n",
            "After this operation, 15.8 MB of additional disk space will be used.\n",
            "debconf: unable to initialize frontend: Dialog\n",
            "debconf: (No usable dialog-like program is installed, so the dialog based frontend cannot be used. at /usr/share/perl5/Debconf/FrontEnd/Dialog.pm line 76, <> line 3.)\n",
            "debconf: falling back to frontend: Readline\n",
            "debconf: unable to initialize frontend: Readline\n",
            "debconf: (This frontend requires a controlling tty.)\n",
            "debconf: falling back to frontend: Teletype\n",
            "dpkg-preconfigure: unable to re-open stdin: \n",
            "Selecting previously unselected package tesseract-ocr-eng.\n",
            "(Reading database ... 155639 files and directories currently installed.)\n",
            "Preparing to unpack .../tesseract-ocr-eng_4.00~git24-0e00fe6-1.2_all.deb ...\n",
            "Unpacking tesseract-ocr-eng (4.00~git24-0e00fe6-1.2) ...\n",
            "Selecting previously unselected package tesseract-ocr-osd.\n",
            "Preparing to unpack .../tesseract-ocr-osd_4.00~git24-0e00fe6-1.2_all.deb ...\n",
            "Unpacking tesseract-ocr-osd (4.00~git24-0e00fe6-1.2) ...\n",
            "Selecting previously unselected package tesseract-ocr.\n",
            "Preparing to unpack .../tesseract-ocr_4.00~git2288-10f4998a-2_amd64.deb ...\n",
            "Unpacking tesseract-ocr (4.00~git2288-10f4998a-2) ...\n",
            "Setting up tesseract-ocr-osd (4.00~git24-0e00fe6-1.2) ...\n",
            "Setting up tesseract-ocr-eng (4.00~git24-0e00fe6-1.2) ...\n",
            "Setting up tesseract-ocr (4.00~git2288-10f4998a-2) ...\n",
            "Processing triggers for man-db (2.8.3-2ubuntu0.1) ...\n",
            "The following package was automatically installed and is no longer required:\n",
            "  libnvidia-common-460\n",
            "Use 'sudo apt autoremove' to remove it.\n",
            "The following additional packages will be installed:\n",
            "  libleptonica-dev\n",
            "The following NEW packages will be installed:\n",
            "  libleptonica-dev libtesseract-dev\n",
            "0 upgraded, 2 newly installed, 0 to remove and 49 not upgraded.\n",
            "Need to get 2,755 kB of archives.\n",
            "After this operation, 13.8 MB of additional disk space will be used.\n",
            "debconf: unable to initialize frontend: Dialog\n",
            "debconf: (No usable dialog-like program is installed, so the dialog based frontend cannot be used. at /usr/share/perl5/Debconf/FrontEnd/Dialog.pm line 76, <> line 2.)\n",
            "debconf: falling back to frontend: Readline\n",
            "debconf: unable to initialize frontend: Readline\n",
            "debconf: (This frontend requires a controlling tty.)\n",
            "debconf: falling back to frontend: Teletype\n",
            "dpkg-preconfigure: unable to re-open stdin: \n",
            "Selecting previously unselected package libleptonica-dev.\n",
            "(Reading database ... 155686 files and directories currently installed.)\n",
            "Preparing to unpack .../libleptonica-dev_1.75.3-3_amd64.deb ...\n",
            "Unpacking libleptonica-dev (1.75.3-3) ...\n",
            "Selecting previously unselected package libtesseract-dev.\n",
            "Preparing to unpack .../libtesseract-dev_4.00~git2288-10f4998a-2_amd64.deb ...\n",
            "Unpacking libtesseract-dev (4.00~git2288-10f4998a-2) ...\n",
            "Setting up libleptonica-dev (1.75.3-3) ...\n",
            "Setting up libtesseract-dev (4.00~git2288-10f4998a-2) ...\n"
          ]
        }
      ],
      "source": [
        "!sudo apt -qq update\n",
        "!sudo apt -qq install tesseract-ocr\n",
        "!sudo apt -qq install libtesseract-dev"
      ]
    },
    {
      "cell_type": "markdown",
      "source": [
        "### Imports"
      ],
      "metadata": {
        "id": "qMRqX2jtweUe"
      }
    },
    {
      "cell_type": "markdown",
      "metadata": {
        "id": "QGpiyV3big2s"
      },
      "source": [
        "Import libraries"
      ]
    },
    {
      "cell_type": "code",
      "execution_count": 3,
      "metadata": {
        "id": "ZlVigKglig2v"
      },
      "outputs": [],
      "source": [
        "import matplotlib.pyplot as plt\n",
        "import re\n",
        "import os\n",
        "import zipfile\n",
        "\n",
        "import fitz\n",
        "import ipywidgets as widgets\n",
        "import nltk\n",
        "import pdfplumber\n",
        "import pytesseract\n",
        "\n",
        "from collections import Counter\n",
        "from IPython.display import clear_output\n",
        "from nltk.corpus import stopwords\n",
        "from os import listdir\n",
        "from os.path import isfile, join\n",
        "from tqdm import tqdm\n",
        "from wordcloud import WordCloud"
      ]
    },
    {
      "cell_type": "markdown",
      "source": [
        "### Code"
      ],
      "metadata": {
        "id": "H--RNv5vwgZu"
      }
    },
    {
      "cell_type": "markdown",
      "source": [
        "Download NLTK stopwords"
      ],
      "metadata": {
        "id": "PxuSSkMHjcLA"
      }
    },
    {
      "cell_type": "code",
      "source": [
        "nltk.download('stopwords')"
      ],
      "metadata": {
        "colab": {
          "base_uri": "https://localhost:8080/"
        },
        "id": "4TIxjqTjjaj2",
        "outputId": "803b2b1b-6d94-4fcc-dfee-1fbf8d4c770c"
      },
      "execution_count": 4,
      "outputs": [
        {
          "output_type": "stream",
          "name": "stderr",
          "text": [
            "[nltk_data] Downloading package stopwords to /root/nltk_data...\n",
            "[nltk_data]   Unzipping corpora/stopwords.zip.\n"
          ]
        },
        {
          "output_type": "execute_result",
          "data": {
            "text/plain": [
              "True"
            ]
          },
          "metadata": {},
          "execution_count": 4
        }
      ]
    },
    {
      "cell_type": "markdown",
      "source": [
        "Parameter defaults"
      ],
      "metadata": {
        "id": "GmIISEj8agcj"
      }
    },
    {
      "cell_type": "code",
      "execution_count": 5,
      "metadata": {
        "id": "0kQq6sf7ig2y"
      },
      "outputs": [],
      "source": [
        "if not os.path.isdir('./data'):\n",
        "        os.mkdir('data')\n",
        "\n",
        "DATA_PATH = \"./data\"\n",
        "INDIVIDUAL_WORD_CLOUDS = False\n",
        "CONTAINS_SCANNED_PDFS = False # Set to true if you know your data contains scanned documents, but you cannot specify which are scanned\n",
        "SCANNED_PDFS_TAGGED = False # Only set to True if you have named ALL scanned PDFs correctly i.e. file name ends with _scanned.pdf"
      ]
    },
    {
      "cell_type": "markdown",
      "source": [
        "Main functions"
      ],
      "metadata": {
        "id": "rcBZmuzZjmOo"
      }
    },
    {
      "cell_type": "code",
      "execution_count": 6,
      "metadata": {
        "id": "JQ86TCbyig2z"
      },
      "outputs": [],
      "source": [
        "def read_file(file_path: str) -> str:\n",
        "    file_string = \"\"\n",
        "    try:\n",
        "        # PDF\n",
        "        if file_path.endswith('.pdf'):\n",
        "            if SCANNED_PDFS_TAGGED: #Assumed that you know which ones were scanned\n",
        "                if file_path.endswith(\"_scanned.pdf\"): #These were scanned\n",
        "                    doc = fitz.open(file_path)\n",
        "                    for page in doc:\n",
        "                        pix = page.get_pixmap()\n",
        "                        output = \"outfile.png\"\n",
        "                        pix.save(output)\n",
        "                        file_string += (pytesseract.image_to_string('outfile.png').lower() + \" \")\n",
        "                        os.remove(\"./outfile.png\") \n",
        "                else: #These were not scanned\n",
        "                    with pdfplumber.open(file_path) as pdf:\n",
        "                        for page in pdf.pages:\n",
        "                            file_string += (page.extract_text().lower() + \" \")\n",
        "            elif CONTAINS_SCANNED_PDFS: # Assumed that you DON'T know which were scanned, but you know that there ARE scanned documents\n",
        "                # Treat everything like it was scanned\n",
        "                doc = fitz.open(file_path)\n",
        "                for page in doc:\n",
        "                    pix = page.get_pixmap()\n",
        "                    output = \"outfile.png\"\n",
        "                    pix.save(output)\n",
        "                    file_string += (pytesseract.image_to_string('outfile.png').lower() + \" \")\n",
        "                    os.remove(\"./outfile.png\") \n",
        "            else: # You know nothing was scanned\n",
        "                with pdfplumber.open(file_path) as pdf:\n",
        "                    for page in pdf.pages:\n",
        "                        file_string += (page.extract_text().lower() + \" \")\n",
        "        # Word Document\n",
        "        elif file_path.endswith(('.doc', '.docx')):\n",
        "            docx = zipfile.ZipFile(file_path)\n",
        "            file_string = docx.read('word/document.xml').decode('utf-8')\n",
        "            file_string = re.sub('<(.|\\n)*?>','',file_string).lower()\n",
        "        # Plain Text\n",
        "        else:\n",
        "            with open(file_path, 'r') as f:\n",
        "                file_string = f.read().lower()\n",
        "    except Exception as e:\n",
        "        print(f\"Error: {e}\")\n",
        "    finally:\n",
        "        return file_string\n",
        "  \n",
        "\n",
        "def create_word_cloud(text, title):\n",
        "    # Removing non-alphanumeric characters in string\n",
        "    re_pattern = re.compile(r'[^\\w\\s]', re.UNICODE)\n",
        "    text = re_pattern.sub('', text)\n",
        "\n",
        "    # Remove unnecessary words (stop words) like \"the\", \"and\", etc.\n",
        "    words_to_count = text.split() # Split sentence into list of words\n",
        "    stop_word_set = set(stopwords.words('english'))\n",
        "    words_to_count = [word for word in words_to_count if word not in stop_word_set] # Remove stop words\n",
        "\n",
        "    # Count the words using Python's Counter\n",
        "    word_cloud_dict = Counter(words_to_count)\n",
        "\n",
        "    # Create the word cloud from the counted words\n",
        "    try:\n",
        "        wordcloud = WordCloud(\n",
        "                      max_font_size=40, \n",
        "                      background_color=\"white\"\n",
        "                    ).generate_from_frequencies(word_cloud_dict)\n",
        "\n",
        "        # Display the generated image:\n",
        "        plt.figure(figsize=(16, 10))\n",
        "        plt.imshow(wordcloud, interpolation='bilinear')\n",
        "        plt.axis(\"off\")\n",
        "        plt.title(title)\n",
        "        plt.savefig(f\"./output/{title}.png\")\n",
        "        plt.show()\n",
        "    except Exception as e:\n",
        "        print(f\"ERROR: {e}\")\n",
        "        print(\"IT APPEARS YOU TRIED TO RUN THIS SCRIPT ON A SCANNED OR EMPTY DOCUMENT WITHOUT THE RIGHT PARAMETERS!\")\n",
        "        print()\n",
        "        print(\"Things to check...\")\n",
        "        print(\"1. Make sure the data folder contains at least one file\")\n",
        "        print(\"2. If you know which PDFs are scanned, rename them to end with _scanned.pdf, and set SCANNED_PDFS_TAGGED to True\")\n",
        "        print(\"3. If you do not know which PDFs are scanned, set CONTAINS_SCANNED_PDFS to True\")"
      ]
    },
    {
      "cell_type": "markdown",
      "source": [
        "Create Widgets"
      ],
      "metadata": {
        "id": "iZWN9HyQaIzS"
      }
    },
    {
      "cell_type": "code",
      "source": [
        "convert_yes_no = {\n",
        "    \"yes\": True,\n",
        "    \"no\": False\n",
        "}\n",
        "\n",
        "# Create Individual Word Clouds\n",
        "individualCaption = widgets.Label(value=\"Do you want to create individual word clouds for each file?\")\n",
        "toggleIndividualBtn = widgets.ToggleButtons(\n",
        "    options=[\"No\", \"Yes\"],\n",
        "    disabled=False,\n",
        "    button_style='info', # 'success', 'info', 'warning', 'danger' or ''\n",
        ")\n",
        "def handleToggleIndividualBtnChange(change):\n",
        "  global INDIVIDUAL_WORD_CLOUDS\n",
        "  INDIVIDUAL_WORD_CLOUDS = convert_yes_no[change.new.lower()]\n",
        "toggleIndividualBtn.observe(handleToggleIndividualBtnChange, names='value')\n",
        "\n",
        "# Scanned PDF's contained?\n",
        "containsScannedCaption = widgets.Label(value=\"Are there scanned PDFs in your files?\")\n",
        "toggleContainsScannedlBtn = widgets.ToggleButtons(\n",
        "    options=[\"No\", \"Yes\"],\n",
        "    disabled=False,\n",
        "    button_style='info', # 'success', 'info', 'warning', 'danger' or ''\n",
        ")\n",
        "def handleToggleContainsScannedlBtnChange(change):\n",
        "  global CONTAINS_SCANNED_PDFS\n",
        "  CONTAINS_SCANNED_PDFS = convert_yes_no[change.new.lower()]\n",
        "toggleContainsScannedlBtn.observe(handleToggleContainsScannedlBtnChange, names='value')\n",
        "\n",
        "# Scanned PDFs tagged?\n",
        "scannedTaggedCaption = widgets.Label(value=\"Have you correctly tagged all scanned files?\")\n",
        "togglescannedTaggedBtn = widgets.ToggleButtons(\n",
        "    options=[\"No\", \"Yes\"],\n",
        "    disabled=False,\n",
        "    button_style='info', # 'success', 'info', 'warning', 'danger' or ''\n",
        ")\n",
        "def handleTogglescannedTaggedBtnChange(change):\n",
        "  global SCANNED_PDFS_TAGGED\n",
        "  SCANNED_PDFS_TAGGED = convert_yes_no[change.new.lower()]\n",
        "togglescannedTaggedBtn.observe(handleTogglescannedTaggedBtnChange, names='value')\n",
        "\n",
        "# Run button\n",
        "runButton = widgets.Button(\n",
        "    description=\"Run\",\n",
        "    button_style='success')\n",
        "def on_run_button_clicked(b):\n",
        "    clear_output(wait=True)\n",
        "    display(runButton)\n",
        "    combined_file_text = \"\"\n",
        "    if not os.path.isdir('output'):\n",
        "        os.mkdir('output')\n",
        "    for file_path in tqdm([f for f in listdir(DATA_PATH) if isfile(join(DATA_PATH, f))]):\n",
        "        file_path = join(DATA_PATH, file_path)\n",
        "        print(file_path)\n",
        "        file_text = read_file(file_path)\n",
        "        if INDIVIDUAL_WORD_CLOUDS:\n",
        "            create_word_cloud(file_text, file_path.split(\"/\")[-1])\n",
        "        combined_file_text += file_text\n",
        "    print(\"Combined Word Cloud\")\n",
        "    create_word_cloud(combined_file_text, \"Combined Word Cloud\")\n",
        "    print(\"### DONE ###\")\n",
        "runButton.on_click(on_run_button_clicked)"
      ],
      "metadata": {
        "id": "qvK7KsJfES4U"
      },
      "execution_count": 7,
      "outputs": []
    },
    {
      "cell_type": "markdown",
      "source": [
        "### Settings"
      ],
      "metadata": {
        "id": "nH1ElAzIwlOt"
      }
    },
    {
      "cell_type": "markdown",
      "metadata": {
        "id": "CIYuLmebig2w"
      },
      "source": [
        "Set parameters using widgets:"
      ]
    },
    {
      "cell_type": "code",
      "source": [
        "display(individualCaption, toggleIndividualBtn)\n",
        "display(containsScannedCaption, toggleContainsScannedlBtn)\n",
        "display(scannedTaggedCaption, togglescannedTaggedBtn)"
      ],
      "metadata": {
        "colab": {
          "base_uri": "https://localhost:8080/",
          "height": 305,
          "referenced_widgets": [
            "c05a135309e947a6a72013c5ec2c0732",
            "a1f0561b010f4c9c813b7545b42358ae",
            "1ef56b27676a4e7faf2c0ba63861868f",
            "8e8036fa23204c19a9bbf47b1c2cb418",
            "b00ca26b1c5c49ebb3d3ce8cac8c7bfc",
            "1ee7340ff927461584702181fd4f9ded",
            "71c5c2b29bd94bb1bc8daabe88931ffe",
            "3a636c0d1a544c12b0bcca8edd7fe5c0",
            "5439d2f7b1ca49d0b81e6af388e1c10d",
            "7a15ada4c6b7443e910f7c3bdfc146c2",
            "760c03a5cc3347a4b19849882d9d5312",
            "3302b180fdaa40b58ac6f21fb31fbf57",
            "5afffb854c064c519fc2117f53c50f94",
            "109879ddbe7243f394b8ea28604607d8",
            "3bba697a018e4cf4a19b8a3f338d4ff5",
            "017640cfe89a454d9066ded9e4e9a37a",
            "95977ddc4f524653ad9264044c3f19a5",
            "a7814ad4059849abac01b4febe222e68"
          ]
        },
        "id": "T-9VjZMxZ_As",
        "outputId": "0fb068bb-5ebd-48da-dc9c-ef1de3d91843"
      },
      "execution_count": 8,
      "outputs": [
        {
          "output_type": "display_data",
          "data": {
            "text/plain": [
              "Label(value='Do you want to create individual word clouds for each file?')"
            ],
            "application/vnd.jupyter.widget-view+json": {
              "version_major": 2,
              "version_minor": 0,
              "model_id": "c05a135309e947a6a72013c5ec2c0732"
            }
          },
          "metadata": {}
        },
        {
          "output_type": "display_data",
          "data": {
            "text/plain": [
              "ToggleButtons(button_style='info', options=('No', 'Yes'), value='No')"
            ],
            "application/vnd.jupyter.widget-view+json": {
              "version_major": 2,
              "version_minor": 0,
              "model_id": "8e8036fa23204c19a9bbf47b1c2cb418"
            }
          },
          "metadata": {}
        },
        {
          "output_type": "display_data",
          "data": {
            "text/plain": [
              "Label(value='Are there scanned PDFs in your files?')"
            ],
            "application/vnd.jupyter.widget-view+json": {
              "version_major": 2,
              "version_minor": 0,
              "model_id": "71c5c2b29bd94bb1bc8daabe88931ffe"
            }
          },
          "metadata": {}
        },
        {
          "output_type": "display_data",
          "data": {
            "text/plain": [
              "ToggleButtons(button_style='info', options=('No', 'Yes'), value='No')"
            ],
            "application/vnd.jupyter.widget-view+json": {
              "version_major": 2,
              "version_minor": 0,
              "model_id": "7a15ada4c6b7443e910f7c3bdfc146c2"
            }
          },
          "metadata": {}
        },
        {
          "output_type": "display_data",
          "data": {
            "text/plain": [
              "Label(value='Have you correctly tagged all scanned files?')"
            ],
            "application/vnd.jupyter.widget-view+json": {
              "version_major": 2,
              "version_minor": 0,
              "model_id": "5afffb854c064c519fc2117f53c50f94"
            }
          },
          "metadata": {}
        },
        {
          "output_type": "display_data",
          "data": {
            "text/plain": [
              "ToggleButtons(button_style='info', options=('No', 'Yes'), value='No')"
            ],
            "application/vnd.jupyter.widget-view+json": {
              "version_major": 2,
              "version_minor": 0,
              "model_id": "017640cfe89a454d9066ded9e4e9a37a"
            }
          },
          "metadata": {}
        }
      ]
    },
    {
      "cell_type": "markdown",
      "source": [
        "### Run"
      ],
      "metadata": {
        "id": "wIje7HKzwnEo"
      }
    },
    {
      "cell_type": "markdown",
      "source": [
        "Run"
      ],
      "metadata": {
        "id": "2D1ou3fDavdC"
      }
    },
    {
      "cell_type": "code",
      "source": [
        "display(runButton)"
      ],
      "metadata": {
        "colab": {
          "base_uri": "https://localhost:8080/",
          "height": 49,
          "referenced_widgets": [
            "00b154632d0b476a9396a1ec7ec3344f",
            "3fd78fd981ec481e95b25f360da28626",
            "b77c40cc79654c0b8cef0117f059eed6"
          ]
        },
        "id": "n2kZM1ySZUJF",
        "outputId": "950ab276-ddaf-4a6b-8333-4d6bd32af7a9"
      },
      "execution_count": 9,
      "outputs": [
        {
          "output_type": "display_data",
          "data": {
            "text/plain": [
              "Button(button_style='success', description='Run', style=ButtonStyle())"
            ],
            "application/vnd.jupyter.widget-view+json": {
              "version_major": 2,
              "version_minor": 0,
              "model_id": "00b154632d0b476a9396a1ec7ec3344f"
            }
          },
          "metadata": {}
        }
      ]
    },
    {
      "cell_type": "code",
      "source": [
        ""
      ],
      "metadata": {
        "id": "at6QDaeYcU6j"
      },
      "execution_count": 9,
      "outputs": []
    }
  ],
  "metadata": {
    "interpreter": {
      "hash": "19832dc2299c5e30c82b0872710fbb1a2ad402d9f6dc93fb9e3c43efd97a0ad9"
    },
    "kernelspec": {
      "display_name": "Python 3.8.10 ('nuti')",
      "language": "python",
      "name": "python3"
    },
    "language_info": {
      "codemirror_mode": {
        "name": "ipython",
        "version": 3
      },
      "file_extension": ".py",
      "mimetype": "text/x-python",
      "name": "python",
      "nbconvert_exporter": "python",
      "pygments_lexer": "ipython3",
      "version": "3.8.10"
    },
    "orig_nbformat": 4,
    "colab": {
      "name": "read_to_cloud.ipynb",
      "provenance": []
    },
    "widgets": {
      "application/vnd.jupyter.widget-state+json": {
        "c05a135309e947a6a72013c5ec2c0732": {
          "model_module": "@jupyter-widgets/controls",
          "model_name": "LabelModel",
          "model_module_version": "1.5.0",
          "state": {
            "_dom_classes": [],
            "_model_module": "@jupyter-widgets/controls",
            "_model_module_version": "1.5.0",
            "_model_name": "LabelModel",
            "_view_count": null,
            "_view_module": "@jupyter-widgets/controls",
            "_view_module_version": "1.5.0",
            "_view_name": "LabelView",
            "description": "",
            "description_tooltip": null,
            "layout": "IPY_MODEL_a1f0561b010f4c9c813b7545b42358ae",
            "placeholder": "​",
            "style": "IPY_MODEL_1ef56b27676a4e7faf2c0ba63861868f",
            "value": "Do you want to create individual word clouds for each file?"
          }
        },
        "a1f0561b010f4c9c813b7545b42358ae": {
          "model_module": "@jupyter-widgets/base",
          "model_name": "LayoutModel",
          "model_module_version": "1.2.0",
          "state": {
            "_model_module": "@jupyter-widgets/base",
            "_model_module_version": "1.2.0",
            "_model_name": "LayoutModel",
            "_view_count": null,
            "_view_module": "@jupyter-widgets/base",
            "_view_module_version": "1.2.0",
            "_view_name": "LayoutView",
            "align_content": null,
            "align_items": null,
            "align_self": null,
            "border": null,
            "bottom": null,
            "display": null,
            "flex": null,
            "flex_flow": null,
            "grid_area": null,
            "grid_auto_columns": null,
            "grid_auto_flow": null,
            "grid_auto_rows": null,
            "grid_column": null,
            "grid_gap": null,
            "grid_row": null,
            "grid_template_areas": null,
            "grid_template_columns": null,
            "grid_template_rows": null,
            "height": null,
            "justify_content": null,
            "justify_items": null,
            "left": null,
            "margin": null,
            "max_height": null,
            "max_width": null,
            "min_height": null,
            "min_width": null,
            "object_fit": null,
            "object_position": null,
            "order": null,
            "overflow": null,
            "overflow_x": null,
            "overflow_y": null,
            "padding": null,
            "right": null,
            "top": null,
            "visibility": null,
            "width": null
          }
        },
        "1ef56b27676a4e7faf2c0ba63861868f": {
          "model_module": "@jupyter-widgets/controls",
          "model_name": "DescriptionStyleModel",
          "model_module_version": "1.5.0",
          "state": {
            "_model_module": "@jupyter-widgets/controls",
            "_model_module_version": "1.5.0",
            "_model_name": "DescriptionStyleModel",
            "_view_count": null,
            "_view_module": "@jupyter-widgets/base",
            "_view_module_version": "1.2.0",
            "_view_name": "StyleView",
            "description_width": ""
          }
        },
        "8e8036fa23204c19a9bbf47b1c2cb418": {
          "model_module": "@jupyter-widgets/controls",
          "model_name": "ToggleButtonsModel",
          "model_module_version": "1.5.0",
          "state": {
            "_dom_classes": [],
            "_model_module": "@jupyter-widgets/controls",
            "_model_module_version": "1.5.0",
            "_model_name": "ToggleButtonsModel",
            "_options_labels": [
              "No",
              "Yes"
            ],
            "_view_count": null,
            "_view_module": "@jupyter-widgets/controls",
            "_view_module_version": "1.5.0",
            "_view_name": "ToggleButtonsView",
            "button_style": "info",
            "description": "",
            "description_tooltip": null,
            "disabled": false,
            "icons": [],
            "index": 0,
            "layout": "IPY_MODEL_b00ca26b1c5c49ebb3d3ce8cac8c7bfc",
            "style": "IPY_MODEL_1ee7340ff927461584702181fd4f9ded",
            "tooltips": []
          }
        },
        "b00ca26b1c5c49ebb3d3ce8cac8c7bfc": {
          "model_module": "@jupyter-widgets/base",
          "model_name": "LayoutModel",
          "model_module_version": "1.2.0",
          "state": {
            "_model_module": "@jupyter-widgets/base",
            "_model_module_version": "1.2.0",
            "_model_name": "LayoutModel",
            "_view_count": null,
            "_view_module": "@jupyter-widgets/base",
            "_view_module_version": "1.2.0",
            "_view_name": "LayoutView",
            "align_content": null,
            "align_items": null,
            "align_self": null,
            "border": null,
            "bottom": null,
            "display": null,
            "flex": null,
            "flex_flow": null,
            "grid_area": null,
            "grid_auto_columns": null,
            "grid_auto_flow": null,
            "grid_auto_rows": null,
            "grid_column": null,
            "grid_gap": null,
            "grid_row": null,
            "grid_template_areas": null,
            "grid_template_columns": null,
            "grid_template_rows": null,
            "height": null,
            "justify_content": null,
            "justify_items": null,
            "left": null,
            "margin": null,
            "max_height": null,
            "max_width": null,
            "min_height": null,
            "min_width": null,
            "object_fit": null,
            "object_position": null,
            "order": null,
            "overflow": null,
            "overflow_x": null,
            "overflow_y": null,
            "padding": null,
            "right": null,
            "top": null,
            "visibility": null,
            "width": null
          }
        },
        "1ee7340ff927461584702181fd4f9ded": {
          "model_module": "@jupyter-widgets/controls",
          "model_name": "ToggleButtonsStyleModel",
          "model_module_version": "1.5.0",
          "state": {
            "_model_module": "@jupyter-widgets/controls",
            "_model_module_version": "1.5.0",
            "_model_name": "ToggleButtonsStyleModel",
            "_view_count": null,
            "_view_module": "@jupyter-widgets/base",
            "_view_module_version": "1.2.0",
            "_view_name": "StyleView",
            "button_width": "",
            "description_width": "",
            "font_weight": ""
          }
        },
        "71c5c2b29bd94bb1bc8daabe88931ffe": {
          "model_module": "@jupyter-widgets/controls",
          "model_name": "LabelModel",
          "model_module_version": "1.5.0",
          "state": {
            "_dom_classes": [],
            "_model_module": "@jupyter-widgets/controls",
            "_model_module_version": "1.5.0",
            "_model_name": "LabelModel",
            "_view_count": null,
            "_view_module": "@jupyter-widgets/controls",
            "_view_module_version": "1.5.0",
            "_view_name": "LabelView",
            "description": "",
            "description_tooltip": null,
            "layout": "IPY_MODEL_3a636c0d1a544c12b0bcca8edd7fe5c0",
            "placeholder": "​",
            "style": "IPY_MODEL_5439d2f7b1ca49d0b81e6af388e1c10d",
            "value": "Are there scanned PDFs in your files?"
          }
        },
        "3a636c0d1a544c12b0bcca8edd7fe5c0": {
          "model_module": "@jupyter-widgets/base",
          "model_name": "LayoutModel",
          "model_module_version": "1.2.0",
          "state": {
            "_model_module": "@jupyter-widgets/base",
            "_model_module_version": "1.2.0",
            "_model_name": "LayoutModel",
            "_view_count": null,
            "_view_module": "@jupyter-widgets/base",
            "_view_module_version": "1.2.0",
            "_view_name": "LayoutView",
            "align_content": null,
            "align_items": null,
            "align_self": null,
            "border": null,
            "bottom": null,
            "display": null,
            "flex": null,
            "flex_flow": null,
            "grid_area": null,
            "grid_auto_columns": null,
            "grid_auto_flow": null,
            "grid_auto_rows": null,
            "grid_column": null,
            "grid_gap": null,
            "grid_row": null,
            "grid_template_areas": null,
            "grid_template_columns": null,
            "grid_template_rows": null,
            "height": null,
            "justify_content": null,
            "justify_items": null,
            "left": null,
            "margin": null,
            "max_height": null,
            "max_width": null,
            "min_height": null,
            "min_width": null,
            "object_fit": null,
            "object_position": null,
            "order": null,
            "overflow": null,
            "overflow_x": null,
            "overflow_y": null,
            "padding": null,
            "right": null,
            "top": null,
            "visibility": null,
            "width": null
          }
        },
        "5439d2f7b1ca49d0b81e6af388e1c10d": {
          "model_module": "@jupyter-widgets/controls",
          "model_name": "DescriptionStyleModel",
          "model_module_version": "1.5.0",
          "state": {
            "_model_module": "@jupyter-widgets/controls",
            "_model_module_version": "1.5.0",
            "_model_name": "DescriptionStyleModel",
            "_view_count": null,
            "_view_module": "@jupyter-widgets/base",
            "_view_module_version": "1.2.0",
            "_view_name": "StyleView",
            "description_width": ""
          }
        },
        "7a15ada4c6b7443e910f7c3bdfc146c2": {
          "model_module": "@jupyter-widgets/controls",
          "model_name": "ToggleButtonsModel",
          "model_module_version": "1.5.0",
          "state": {
            "_dom_classes": [],
            "_model_module": "@jupyter-widgets/controls",
            "_model_module_version": "1.5.0",
            "_model_name": "ToggleButtonsModel",
            "_options_labels": [
              "No",
              "Yes"
            ],
            "_view_count": null,
            "_view_module": "@jupyter-widgets/controls",
            "_view_module_version": "1.5.0",
            "_view_name": "ToggleButtonsView",
            "button_style": "info",
            "description": "",
            "description_tooltip": null,
            "disabled": false,
            "icons": [],
            "index": 0,
            "layout": "IPY_MODEL_760c03a5cc3347a4b19849882d9d5312",
            "style": "IPY_MODEL_3302b180fdaa40b58ac6f21fb31fbf57",
            "tooltips": []
          }
        },
        "760c03a5cc3347a4b19849882d9d5312": {
          "model_module": "@jupyter-widgets/base",
          "model_name": "LayoutModel",
          "model_module_version": "1.2.0",
          "state": {
            "_model_module": "@jupyter-widgets/base",
            "_model_module_version": "1.2.0",
            "_model_name": "LayoutModel",
            "_view_count": null,
            "_view_module": "@jupyter-widgets/base",
            "_view_module_version": "1.2.0",
            "_view_name": "LayoutView",
            "align_content": null,
            "align_items": null,
            "align_self": null,
            "border": null,
            "bottom": null,
            "display": null,
            "flex": null,
            "flex_flow": null,
            "grid_area": null,
            "grid_auto_columns": null,
            "grid_auto_flow": null,
            "grid_auto_rows": null,
            "grid_column": null,
            "grid_gap": null,
            "grid_row": null,
            "grid_template_areas": null,
            "grid_template_columns": null,
            "grid_template_rows": null,
            "height": null,
            "justify_content": null,
            "justify_items": null,
            "left": null,
            "margin": null,
            "max_height": null,
            "max_width": null,
            "min_height": null,
            "min_width": null,
            "object_fit": null,
            "object_position": null,
            "order": null,
            "overflow": null,
            "overflow_x": null,
            "overflow_y": null,
            "padding": null,
            "right": null,
            "top": null,
            "visibility": null,
            "width": null
          }
        },
        "3302b180fdaa40b58ac6f21fb31fbf57": {
          "model_module": "@jupyter-widgets/controls",
          "model_name": "ToggleButtonsStyleModel",
          "model_module_version": "1.5.0",
          "state": {
            "_model_module": "@jupyter-widgets/controls",
            "_model_module_version": "1.5.0",
            "_model_name": "ToggleButtonsStyleModel",
            "_view_count": null,
            "_view_module": "@jupyter-widgets/base",
            "_view_module_version": "1.2.0",
            "_view_name": "StyleView",
            "button_width": "",
            "description_width": "",
            "font_weight": ""
          }
        },
        "5afffb854c064c519fc2117f53c50f94": {
          "model_module": "@jupyter-widgets/controls",
          "model_name": "LabelModel",
          "model_module_version": "1.5.0",
          "state": {
            "_dom_classes": [],
            "_model_module": "@jupyter-widgets/controls",
            "_model_module_version": "1.5.0",
            "_model_name": "LabelModel",
            "_view_count": null,
            "_view_module": "@jupyter-widgets/controls",
            "_view_module_version": "1.5.0",
            "_view_name": "LabelView",
            "description": "",
            "description_tooltip": null,
            "layout": "IPY_MODEL_109879ddbe7243f394b8ea28604607d8",
            "placeholder": "​",
            "style": "IPY_MODEL_3bba697a018e4cf4a19b8a3f338d4ff5",
            "value": "Have you correctly tagged all scanned files?"
          }
        },
        "109879ddbe7243f394b8ea28604607d8": {
          "model_module": "@jupyter-widgets/base",
          "model_name": "LayoutModel",
          "model_module_version": "1.2.0",
          "state": {
            "_model_module": "@jupyter-widgets/base",
            "_model_module_version": "1.2.0",
            "_model_name": "LayoutModel",
            "_view_count": null,
            "_view_module": "@jupyter-widgets/base",
            "_view_module_version": "1.2.0",
            "_view_name": "LayoutView",
            "align_content": null,
            "align_items": null,
            "align_self": null,
            "border": null,
            "bottom": null,
            "display": null,
            "flex": null,
            "flex_flow": null,
            "grid_area": null,
            "grid_auto_columns": null,
            "grid_auto_flow": null,
            "grid_auto_rows": null,
            "grid_column": null,
            "grid_gap": null,
            "grid_row": null,
            "grid_template_areas": null,
            "grid_template_columns": null,
            "grid_template_rows": null,
            "height": null,
            "justify_content": null,
            "justify_items": null,
            "left": null,
            "margin": null,
            "max_height": null,
            "max_width": null,
            "min_height": null,
            "min_width": null,
            "object_fit": null,
            "object_position": null,
            "order": null,
            "overflow": null,
            "overflow_x": null,
            "overflow_y": null,
            "padding": null,
            "right": null,
            "top": null,
            "visibility": null,
            "width": null
          }
        },
        "3bba697a018e4cf4a19b8a3f338d4ff5": {
          "model_module": "@jupyter-widgets/controls",
          "model_name": "DescriptionStyleModel",
          "model_module_version": "1.5.0",
          "state": {
            "_model_module": "@jupyter-widgets/controls",
            "_model_module_version": "1.5.0",
            "_model_name": "DescriptionStyleModel",
            "_view_count": null,
            "_view_module": "@jupyter-widgets/base",
            "_view_module_version": "1.2.0",
            "_view_name": "StyleView",
            "description_width": ""
          }
        },
        "017640cfe89a454d9066ded9e4e9a37a": {
          "model_module": "@jupyter-widgets/controls",
          "model_name": "ToggleButtonsModel",
          "model_module_version": "1.5.0",
          "state": {
            "_dom_classes": [],
            "_model_module": "@jupyter-widgets/controls",
            "_model_module_version": "1.5.0",
            "_model_name": "ToggleButtonsModel",
            "_options_labels": [
              "No",
              "Yes"
            ],
            "_view_count": null,
            "_view_module": "@jupyter-widgets/controls",
            "_view_module_version": "1.5.0",
            "_view_name": "ToggleButtonsView",
            "button_style": "info",
            "description": "",
            "description_tooltip": null,
            "disabled": false,
            "icons": [],
            "index": 0,
            "layout": "IPY_MODEL_95977ddc4f524653ad9264044c3f19a5",
            "style": "IPY_MODEL_a7814ad4059849abac01b4febe222e68",
            "tooltips": []
          }
        },
        "95977ddc4f524653ad9264044c3f19a5": {
          "model_module": "@jupyter-widgets/base",
          "model_name": "LayoutModel",
          "model_module_version": "1.2.0",
          "state": {
            "_model_module": "@jupyter-widgets/base",
            "_model_module_version": "1.2.0",
            "_model_name": "LayoutModel",
            "_view_count": null,
            "_view_module": "@jupyter-widgets/base",
            "_view_module_version": "1.2.0",
            "_view_name": "LayoutView",
            "align_content": null,
            "align_items": null,
            "align_self": null,
            "border": null,
            "bottom": null,
            "display": null,
            "flex": null,
            "flex_flow": null,
            "grid_area": null,
            "grid_auto_columns": null,
            "grid_auto_flow": null,
            "grid_auto_rows": null,
            "grid_column": null,
            "grid_gap": null,
            "grid_row": null,
            "grid_template_areas": null,
            "grid_template_columns": null,
            "grid_template_rows": null,
            "height": null,
            "justify_content": null,
            "justify_items": null,
            "left": null,
            "margin": null,
            "max_height": null,
            "max_width": null,
            "min_height": null,
            "min_width": null,
            "object_fit": null,
            "object_position": null,
            "order": null,
            "overflow": null,
            "overflow_x": null,
            "overflow_y": null,
            "padding": null,
            "right": null,
            "top": null,
            "visibility": null,
            "width": null
          }
        },
        "a7814ad4059849abac01b4febe222e68": {
          "model_module": "@jupyter-widgets/controls",
          "model_name": "ToggleButtonsStyleModel",
          "model_module_version": "1.5.0",
          "state": {
            "_model_module": "@jupyter-widgets/controls",
            "_model_module_version": "1.5.0",
            "_model_name": "ToggleButtonsStyleModel",
            "_view_count": null,
            "_view_module": "@jupyter-widgets/base",
            "_view_module_version": "1.2.0",
            "_view_name": "StyleView",
            "button_width": "",
            "description_width": "",
            "font_weight": ""
          }
        },
        "00b154632d0b476a9396a1ec7ec3344f": {
          "model_module": "@jupyter-widgets/controls",
          "model_name": "ButtonModel",
          "model_module_version": "1.5.0",
          "state": {
            "_dom_classes": [],
            "_model_module": "@jupyter-widgets/controls",
            "_model_module_version": "1.5.0",
            "_model_name": "ButtonModel",
            "_view_count": null,
            "_view_module": "@jupyter-widgets/controls",
            "_view_module_version": "1.5.0",
            "_view_name": "ButtonView",
            "button_style": "success",
            "description": "Run",
            "disabled": false,
            "icon": "",
            "layout": "IPY_MODEL_3fd78fd981ec481e95b25f360da28626",
            "style": "IPY_MODEL_b77c40cc79654c0b8cef0117f059eed6",
            "tooltip": ""
          }
        },
        "3fd78fd981ec481e95b25f360da28626": {
          "model_module": "@jupyter-widgets/base",
          "model_name": "LayoutModel",
          "model_module_version": "1.2.0",
          "state": {
            "_model_module": "@jupyter-widgets/base",
            "_model_module_version": "1.2.0",
            "_model_name": "LayoutModel",
            "_view_count": null,
            "_view_module": "@jupyter-widgets/base",
            "_view_module_version": "1.2.0",
            "_view_name": "LayoutView",
            "align_content": null,
            "align_items": null,
            "align_self": null,
            "border": null,
            "bottom": null,
            "display": null,
            "flex": null,
            "flex_flow": null,
            "grid_area": null,
            "grid_auto_columns": null,
            "grid_auto_flow": null,
            "grid_auto_rows": null,
            "grid_column": null,
            "grid_gap": null,
            "grid_row": null,
            "grid_template_areas": null,
            "grid_template_columns": null,
            "grid_template_rows": null,
            "height": null,
            "justify_content": null,
            "justify_items": null,
            "left": null,
            "margin": null,
            "max_height": null,
            "max_width": null,
            "min_height": null,
            "min_width": null,
            "object_fit": null,
            "object_position": null,
            "order": null,
            "overflow": null,
            "overflow_x": null,
            "overflow_y": null,
            "padding": null,
            "right": null,
            "top": null,
            "visibility": null,
            "width": null
          }
        },
        "b77c40cc79654c0b8cef0117f059eed6": {
          "model_module": "@jupyter-widgets/controls",
          "model_name": "ButtonStyleModel",
          "model_module_version": "1.5.0",
          "state": {
            "_model_module": "@jupyter-widgets/controls",
            "_model_module_version": "1.5.0",
            "_model_name": "ButtonStyleModel",
            "_view_count": null,
            "_view_module": "@jupyter-widgets/base",
            "_view_module_version": "1.2.0",
            "_view_name": "StyleView",
            "button_color": null,
            "font_weight": ""
          }
        }
      }
    }
  },
  "nbformat": 4,
  "nbformat_minor": 0
}