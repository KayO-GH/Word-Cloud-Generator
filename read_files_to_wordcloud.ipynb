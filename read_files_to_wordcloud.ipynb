{
  "cells": [
    {
      "cell_type": "markdown",
      "metadata": {
        "id": "c2rkoC7GyVOJ"
      },
      "source": [
        "# Read Files to WordCloud"
      ]
    },
    {
      "cell_type": "markdown",
      "metadata": {
        "id": "tPEZy9qxw67x"
      },
      "source": [
        "### Notes"
      ]
    },
    {
      "cell_type": "markdown",
      "metadata": {
        "id": "a-_Xj0erig13"
      },
      "source": [
        "#### Scenarios:\n",
        "1. Single file -> Single word cloud\n",
        "2. Multiple files -> Single word cloud\n",
        "3. Multiple files -> Multiple word clouds + Combined word cloud\n",
        "\n",
        "#### Instructions:\n",
        "1. Run the entire file: From the menu, select `Runtime` then `Run all`\n",
        "2. Upload your files to the `data` folder\n",
        "3. Set the appropriate parameters by toggling to the **Yes/No** buttons\n",
        "4. Click `Run` and wait for the word clouds to be generated. Wait till you see the message **### Done ###** in the cell logs, or a wordcloud with the title **\"Combined Word Cloud\"**.\n",
        "5. Click `Download` to get a zip file of your word cloud images.\n",
        "\n",
        "#### Limitations:\n",
        "* Text in images cannot be read. Here is a [workaround](https://www.thewindowsclub.com/extract-text-from-an-image-in-word) to extract text from images.\n",
        "* Scanned PDFs _(You know a PDF was scanned if you can't select text with your mouse when you open it normally)_\n",
        "    * SOTA OCR methods are still not perfect\n",
        "    * OCR text recognition takes longer to run\n",
        "    * \\*Key takeaway: If you can get a machine-generated PDF, use that, else tag your **scanned PDF** files properly by renaming the to end with `_scanned.pdf`\n",
        "\n",
        "#### Known Issues:\n",
        "* Sometimes, the required packages fail to install correctly, leading to an error in the logs that says: `ERROR: module 'PIL.Image' has no attribute 'Transpose'`. In this scenario, go to `Runtime` in the menu, and select `Restart and run all`. This should fix the problem, and you can go through the steps outlined in the instructions."
      ]
    },
    {
      "cell_type": "markdown",
      "metadata": {
        "id": "wV_0pbrIig2F"
      },
      "source": [
        "---"
      ]
    },
    {
      "cell_type": "markdown",
      "metadata": {
        "id": "XmyK_TA1wYbQ"
      },
      "source": [
        "### Installations"
      ]
    },
    {
      "cell_type": "markdown",
      "metadata": {
        "id": "qnOLVcX3ig2L"
      },
      "source": [
        "Install necessary libraries:  \n",
        "* **iPython Widgets** - For creating buttons\n",
        "* **NLTK** - For basic NLP, like getting stop words\n",
        "* **PDF Plumber** - For reading machine generated PDFs\n",
        "* **PyMuPDF (fitz)** - For reading scanned PDFs\n",
        "* **PyTesseract** - For OCR in conjunction with fitz pages\n",
        "* **TQDM** - Progress bar"
      ]
    },
    {
      "cell_type": "code",
      "execution_count": 1,
      "metadata": {
        "id": "fp5hJcQ8C-BX"
      },
      "outputs": [],
      "source": [
        "!pip install ipywidgets -q\n",
        "!pip install nltk -q\n",
        "!pip install pdfplumber -q\n",
        "!pip install pymupdf -q\n",
        "!pip install pytesseract -q\n",
        "!pip install tqdm -q"
      ]
    },
    {
      "cell_type": "code",
      "execution_count": 2,
      "metadata": {
        "colab": {
          "base_uri": "https://localhost:8080/"
        },
        "id": "0qf4vfagig2o",
        "outputId": "1ee254aa-f013-44c6-957c-5de6357a7bd3"
      },
      "outputs": [
        {
          "output_type": "stream",
          "name": "stdout",
          "text": [
            "49 packages can be upgraded. Run 'apt list --upgradable' to see them.\n",
            "tesseract-ocr is already the newest version (4.00~git2288-10f4998a-2).\n",
            "The following package was automatically installed and is no longer required:\n",
            "  libnvidia-common-460\n",
            "Use 'sudo apt autoremove' to remove it.\n",
            "0 upgraded, 0 newly installed, 0 to remove and 49 not upgraded.\n",
            "libtesseract-dev is already the newest version (4.00~git2288-10f4998a-2).\n",
            "The following package was automatically installed and is no longer required:\n",
            "  libnvidia-common-460\n",
            "Use 'sudo apt autoremove' to remove it.\n",
            "0 upgraded, 0 newly installed, 0 to remove and 49 not upgraded.\n"
          ]
        }
      ],
      "source": [
        "!sudo apt -qq update\n",
        "!sudo apt -qq install tesseract-ocr\n",
        "!sudo apt -qq install libtesseract-dev"
      ]
    },
    {
      "cell_type": "markdown",
      "metadata": {
        "id": "qMRqX2jtweUe"
      },
      "source": [
        "### Imports"
      ]
    },
    {
      "cell_type": "markdown",
      "metadata": {
        "id": "QGpiyV3big2s"
      },
      "source": [
        "Import libraries"
      ]
    },
    {
      "cell_type": "code",
      "execution_count": 3,
      "metadata": {
        "id": "ZlVigKglig2v"
      },
      "outputs": [],
      "source": [
        "import matplotlib.pyplot as plt\n",
        "import os\n",
        "import re\n",
        "import zipfile\n",
        "\n",
        "import fitz\n",
        "import ipywidgets as widgets\n",
        "import nltk\n",
        "import pdfplumber\n",
        "import pytesseract\n",
        "\n",
        "from collections import Counter\n",
        "from google.colab import files\n",
        "from IPython.display import clear_output\n",
        "from nltk.corpus import stopwords\n",
        "from os import listdir\n",
        "from os.path import isfile, join\n",
        "from tqdm import tqdm\n",
        "from wordcloud import WordCloud"
      ]
    },
    {
      "cell_type": "markdown",
      "metadata": {
        "id": "H--RNv5vwgZu"
      },
      "source": [
        "### Code"
      ]
    },
    {
      "cell_type": "markdown",
      "metadata": {
        "id": "PxuSSkMHjcLA"
      },
      "source": [
        "Download NLTK stopwords"
      ]
    },
    {
      "cell_type": "code",
      "execution_count": 4,
      "metadata": {
        "colab": {
          "base_uri": "https://localhost:8080/"
        },
        "id": "4TIxjqTjjaj2",
        "outputId": "31691c02-893c-4d2c-c45c-5fe590b47f06"
      },
      "outputs": [
        {
          "output_type": "stream",
          "name": "stderr",
          "text": [
            "[nltk_data] Downloading package stopwords to /root/nltk_data...\n",
            "[nltk_data]   Package stopwords is already up-to-date!\n"
          ]
        },
        {
          "output_type": "execute_result",
          "data": {
            "text/plain": [
              "True"
            ]
          },
          "metadata": {},
          "execution_count": 4
        }
      ],
      "source": [
        "nltk.download('stopwords')"
      ]
    },
    {
      "cell_type": "markdown",
      "metadata": {
        "id": "GmIISEj8agcj"
      },
      "source": [
        "Parameter defaults"
      ]
    },
    {
      "cell_type": "code",
      "execution_count": 5,
      "metadata": {
        "id": "0kQq6sf7ig2y"
      },
      "outputs": [],
      "source": [
        "if not os.path.isdir('./data'):\n",
        "        os.mkdir('data')\n",
        "\n",
        "DATA_PATH = \"./data\"\n",
        "INDIVIDUAL_WORD_CLOUDS = False\n",
        "CONTAINS_SCANNED_PDFS = False # Set to true if you know your data contains scanned documents, but you cannot specify which are scanned\n",
        "SCANNED_PDFS_TAGGED = False # Only set to True if you have named ALL scanned PDFs correctly i.e. file name ends with _scanned.pdf"
      ]
    },
    {
      "cell_type": "markdown",
      "metadata": {
        "id": "rcBZmuzZjmOo"
      },
      "source": [
        "Main functions"
      ]
    },
    {
      "cell_type": "code",
      "execution_count": 6,
      "metadata": {
        "id": "JQ86TCbyig2z"
      },
      "outputs": [],
      "source": [
        "def read_file(file_path: str) -> str:\n",
        "    file_string = \"\"\n",
        "    try:\n",
        "        # PDF\n",
        "        if file_path.endswith('.pdf'):\n",
        "            if SCANNED_PDFS_TAGGED: #Assumed that you know which ones were scanned\n",
        "                if file_path.endswith(\"_scanned.pdf\"): #These were scanned\n",
        "                    doc = fitz.open(file_path)\n",
        "                    for page in doc:\n",
        "                        pix = page.get_pixmap()\n",
        "                        output = \"outfile.png\"\n",
        "                        pix.save(output)\n",
        "                        file_string += (pytesseract.image_to_string('outfile.png').lower() + \" \")\n",
        "                        os.remove(\"./outfile.png\") \n",
        "                else: #These were not scanned\n",
        "                    with pdfplumber.open(file_path) as pdf:\n",
        "                        for page in pdf.pages:\n",
        "                            file_string += (page.extract_text().lower() + \" \")\n",
        "            elif CONTAINS_SCANNED_PDFS: # Assumed that you DON'T know which were scanned, but you know that there ARE scanned documents\n",
        "                # Treat everything like it was scanned\n",
        "                doc = fitz.open(file_path)\n",
        "                for page in doc:\n",
        "                    pix = page.get_pixmap()\n",
        "                    output = \"outfile.png\"\n",
        "                    pix.save(output)\n",
        "                    file_string += (pytesseract.image_to_string('outfile.png').lower() + \" \")\n",
        "                    os.remove(\"./outfile.png\") \n",
        "            else: # You know nothing was scanned\n",
        "                with pdfplumber.open(file_path) as pdf:\n",
        "                    for page in pdf.pages:\n",
        "                        file_string += (page.extract_text().lower() + \" \")\n",
        "        # Word Document\n",
        "        elif file_path.endswith(('.doc', '.docx')):\n",
        "            docx = zipfile.ZipFile(file_path)\n",
        "            file_string = docx.read('word/document.xml').decode('utf-8')\n",
        "            file_string = re.sub('<(.|\\n)*?>','',file_string).lower()\n",
        "        # Plain Text\n",
        "        else:\n",
        "            with open(file_path, 'r') as f:\n",
        "                file_string = f.read().lower()\n",
        "    except Exception as e:\n",
        "        print(f\"Error: {e}\")\n",
        "    finally:\n",
        "        return file_string\n",
        "  \n",
        "\n",
        "def create_word_cloud(text, title):\n",
        "    # Removing non-alphanumeric characters in string\n",
        "    re_pattern = re.compile(r'[^\\w\\s]', re.UNICODE)\n",
        "    text = re_pattern.sub('', text)\n",
        "\n",
        "    # Remove unnecessary words (stop words) like \"the\", \"and\", etc.\n",
        "    words_to_count = text.split() # Split sentence into list of words\n",
        "    stop_word_set = set(stopwords.words('english'))\n",
        "    words_to_count = [word for word in words_to_count if word not in stop_word_set] # Remove stop words\n",
        "\n",
        "    # Count the words using Python's Counter\n",
        "    word_cloud_dict = Counter(words_to_count)\n",
        "\n",
        "    # Create the word cloud from the counted words\n",
        "    try:\n",
        "        wordcloud = WordCloud(\n",
        "                      max_font_size=40, \n",
        "                      background_color=\"white\"\n",
        "                    ).generate_from_frequencies(word_cloud_dict)\n",
        "\n",
        "        # Display the generated image:\n",
        "        plt.figure(figsize=(16, 10))\n",
        "        plt.imshow(wordcloud, interpolation='bilinear')\n",
        "        plt.axis(\"off\")\n",
        "        plt.title(title)\n",
        "        plt.savefig(f\"./output/{title}.png\")\n",
        "        plt.show()\n",
        "    except Exception as e:\n",
        "        print(f\"ERROR: {e}\")\n",
        "        print(\"IT APPEARS YOU TRIED TO RUN THIS SCRIPT ON A SCANNED OR EMPTY DOCUMENT WITHOUT THE RIGHT PARAMETERS!\")\n",
        "        print()\n",
        "        print(\"Things to check...\")\n",
        "        print(\"1. Make sure the data folder contains at least one file\")\n",
        "        print(\"2. If you know which PDFs are scanned, rename them to end with _scanned.pdf, and set SCANNED_PDFS_TAGGED to True\")\n",
        "        print(\"3. If you do not know which PDFs are scanned, set CONTAINS_SCANNED_PDFS to True\")"
      ]
    },
    {
      "cell_type": "markdown",
      "metadata": {
        "id": "iZWN9HyQaIzS"
      },
      "source": [
        "Create Widgets"
      ]
    },
    {
      "cell_type": "code",
      "execution_count": 7,
      "metadata": {
        "id": "qvK7KsJfES4U"
      },
      "outputs": [],
      "source": [
        "convert_yes_no = {\n",
        "    \"yes\": True,\n",
        "    \"no\": False\n",
        "}\n",
        "\n",
        "# Create Individual Word Clouds\n",
        "individualCaption = widgets.Label(value=\"Do you want to create individual word clouds for each file?\")\n",
        "toggleIndividualBtn = widgets.ToggleButtons(\n",
        "    options=[\"No\", \"Yes\"],\n",
        "    disabled=False,\n",
        "    button_style='info', # 'success', 'info', 'warning', 'danger' or ''\n",
        ")\n",
        "def handleToggleIndividualBtnChange(change):\n",
        "  global INDIVIDUAL_WORD_CLOUDS\n",
        "  INDIVIDUAL_WORD_CLOUDS = convert_yes_no[change.new.lower()]\n",
        "toggleIndividualBtn.observe(handleToggleIndividualBtnChange, names='value')\n",
        "\n",
        "# Scanned PDF's contained?\n",
        "containsScannedCaption = widgets.Label(value=\"Are there scanned PDFs in your files?\")\n",
        "toggleContainsScannedlBtn = widgets.ToggleButtons(\n",
        "    options=[\"No\", \"Yes\"],\n",
        "    disabled=False,\n",
        "    button_style='info', # 'success', 'info', 'warning', 'danger' or ''\n",
        ")\n",
        "def handleToggleContainsScannedlBtnChange(change):\n",
        "  global CONTAINS_SCANNED_PDFS\n",
        "  CONTAINS_SCANNED_PDFS = convert_yes_no[change.new.lower()]\n",
        "toggleContainsScannedlBtn.observe(handleToggleContainsScannedlBtnChange, names='value')\n",
        "\n",
        "# Scanned PDFs tagged?\n",
        "scannedTaggedCaption = widgets.Label(value=\"Have you correctly tagged all scanned files?\")\n",
        "togglescannedTaggedBtn = widgets.ToggleButtons(\n",
        "    options=[\"No\", \"Yes\"],\n",
        "    disabled=False,\n",
        "    button_style='info', # 'success', 'info', 'warning', 'danger' or ''\n",
        ")\n",
        "def handleTogglescannedTaggedBtnChange(change):\n",
        "  global SCANNED_PDFS_TAGGED\n",
        "  SCANNED_PDFS_TAGGED = convert_yes_no[change.new.lower()]\n",
        "togglescannedTaggedBtn.observe(handleTogglescannedTaggedBtnChange, names='value')\n",
        "\n",
        "# Run button\n",
        "runButton = widgets.Button(\n",
        "    description=\"Run\",\n",
        "    button_style='success')\n",
        "def on_run_button_clicked(b):\n",
        "    clear_output(wait=True)\n",
        "    display(runButton)\n",
        "    combined_file_text = \"\"\n",
        "    if not os.path.isdir('output'):\n",
        "        os.mkdir('output')\n",
        "    for file_path in tqdm([f for f in listdir(DATA_PATH) if isfile(join(DATA_PATH, f))]):\n",
        "        file_path = join(DATA_PATH, file_path)\n",
        "        print(file_path)\n",
        "        print(\"Running...\")\n",
        "        file_text = read_file(file_path)\n",
        "        if INDIVIDUAL_WORD_CLOUDS:\n",
        "            create_word_cloud(file_text, file_path.split(\"/\")[-1])\n",
        "        combined_file_text += file_text\n",
        "    print(\"Combined Word Cloud\")\n",
        "    create_word_cloud(combined_file_text, \"Combined Word Cloud\")\n",
        "    print(\"### DONE ###\")\n",
        "runButton.on_click(on_run_button_clicked)\n",
        "\n",
        "# Download button\n",
        "downloadButton = widgets.Button(\n",
        "    description=\"Download\",\n",
        "    button_style='success')\n",
        "def on_download_button_clicked(b):\n",
        "    clear_output(wait=True)\n",
        "    display(downloadButton)\n",
        "    # Download all images as zip file\n",
        "    os.system(\"zip -r /content/WordClouds.zip /content/output\")\n",
        "    files.download(\"/content/WordClouds.zip\")\n",
        "    print(\"### Files Downloaded ###\")\n",
        "downloadButton.on_click(on_download_button_clicked)"
      ]
    },
    {
      "cell_type": "markdown",
      "metadata": {
        "id": "nH1ElAzIwlOt"
      },
      "source": [
        "### Settings"
      ]
    },
    {
      "cell_type": "markdown",
      "metadata": {
        "id": "CIYuLmebig2w"
      },
      "source": [
        "Set parameters using widgets:"
      ]
    },
    {
      "cell_type": "code",
      "execution_count": 8,
      "metadata": {
        "colab": {
          "base_uri": "https://localhost:8080/",
          "height": 200,
          "referenced_widgets": [
            "5bb0bbbca4b54a30a4e74c86209c65c5",
            "ed339157ea7f465f83fc033a27f1791c",
            "1adabab780e74dab9a563cd774d6cc5f",
            "e232e22640f84540bec4071cf9cce01d",
            "16dee9a343a542a5ae938dc013337ee7",
            "0ac481b9bddc4a32aaef5be5f9e090ad",
            "b30a373a3c2b4663a9c0c637f01794c6",
            "a1ccea8c64794e8b878c5fe14cba3ec1",
            "77e14bb1f6ae458fa4c1a73745771447",
            "80cbc1748e3941578bd0c380fe255d1f",
            "81390ea777c84aa6b151ad7d4177f240",
            "4c1e33dc600241728ac64f57cb607b52",
            "4499b115bd95442babc6840641a089ee",
            "65be354dff134e899683c0529125837b",
            "d4bbccaf05a74cdeaaad444d4a4f32f0",
            "2d700ee5c31d4b0eae431bccc6fa3c17",
            "40e95d254b9f412887446aa0fbbaf864",
            "3f6da8bf402540498e91265419585e92"
          ]
        },
        "id": "T-9VjZMxZ_As",
        "outputId": "8d75030c-818c-4b05-cbd0-f4c5d0006dba"
      },
      "outputs": [
        {
          "output_type": "display_data",
          "data": {
            "text/plain": [
              "Label(value='Do you want to create individual word clouds for each file?')"
            ],
            "application/vnd.jupyter.widget-view+json": {
              "version_major": 2,
              "version_minor": 0,
              "model_id": "5bb0bbbca4b54a30a4e74c86209c65c5"
            }
          },
          "metadata": {}
        },
        {
          "output_type": "display_data",
          "data": {
            "text/plain": [
              "ToggleButtons(button_style='info', options=('No', 'Yes'), value='No')"
            ],
            "application/vnd.jupyter.widget-view+json": {
              "version_major": 2,
              "version_minor": 0,
              "model_id": "e232e22640f84540bec4071cf9cce01d"
            }
          },
          "metadata": {}
        },
        {
          "output_type": "display_data",
          "data": {
            "text/plain": [
              "Label(value='Are there scanned PDFs in your files?')"
            ],
            "application/vnd.jupyter.widget-view+json": {
              "version_major": 2,
              "version_minor": 0,
              "model_id": "b30a373a3c2b4663a9c0c637f01794c6"
            }
          },
          "metadata": {}
        },
        {
          "output_type": "display_data",
          "data": {
            "text/plain": [
              "ToggleButtons(button_style='info', options=('No', 'Yes'), value='No')"
            ],
            "application/vnd.jupyter.widget-view+json": {
              "version_major": 2,
              "version_minor": 0,
              "model_id": "80cbc1748e3941578bd0c380fe255d1f"
            }
          },
          "metadata": {}
        },
        {
          "output_type": "display_data",
          "data": {
            "text/plain": [
              "Label(value='Have you correctly tagged all scanned files?')"
            ],
            "application/vnd.jupyter.widget-view+json": {
              "version_major": 2,
              "version_minor": 0,
              "model_id": "4499b115bd95442babc6840641a089ee"
            }
          },
          "metadata": {}
        },
        {
          "output_type": "display_data",
          "data": {
            "text/plain": [
              "ToggleButtons(button_style='info', options=('No', 'Yes'), value='No')"
            ],
            "application/vnd.jupyter.widget-view+json": {
              "version_major": 2,
              "version_minor": 0,
              "model_id": "2d700ee5c31d4b0eae431bccc6fa3c17"
            }
          },
          "metadata": {}
        }
      ],
      "source": [
        "display(individualCaption, toggleIndividualBtn)\n",
        "display(containsScannedCaption, toggleContainsScannedlBtn)\n",
        "display(scannedTaggedCaption, togglescannedTaggedBtn)"
      ]
    },
    {
      "cell_type": "markdown",
      "metadata": {
        "id": "wIje7HKzwnEo"
      },
      "source": [
        "### Run"
      ]
    },
    {
      "cell_type": "markdown",
      "metadata": {
        "id": "2D1ou3fDavdC"
      },
      "source": [
        "Run"
      ]
    },
    {
      "cell_type": "code",
      "execution_count": 9,
      "metadata": {
        "colab": {
          "base_uri": "https://localhost:8080/",
          "height": 49,
          "referenced_widgets": [
            "bee124cff16c4013bfdade427bf2572f",
            "772e92f22a9f4a3e813ce9e49873fbf3",
            "e3ed0485b0144b17b7652b6d4f37b298"
          ]
        },
        "id": "n2kZM1ySZUJF",
        "outputId": "114b4c33-4bfb-48d0-a6ce-b335f86a636b"
      },
      "outputs": [
        {
          "output_type": "display_data",
          "data": {
            "text/plain": [
              "Button(button_style='success', description='Run', style=ButtonStyle())"
            ],
            "application/vnd.jupyter.widget-view+json": {
              "version_major": 2,
              "version_minor": 0,
              "model_id": "bee124cff16c4013bfdade427bf2572f"
            }
          },
          "metadata": {}
        }
      ],
      "source": [
        "display(runButton)"
      ]
    },
    {
      "cell_type": "markdown",
      "source": [
        "### Download"
      ],
      "metadata": {
        "id": "TNPP2onyD0sG"
      }
    },
    {
      "cell_type": "code",
      "execution_count": 10,
      "metadata": {
        "id": "at6QDaeYcU6j",
        "colab": {
          "base_uri": "https://localhost:8080/",
          "height": 49,
          "referenced_widgets": [
            "b18f20a8ec954b529741268214b4e662",
            "2c833b8ae1a34ed39d9acb55318310de",
            "5703e1d14c464e5ea12b6852b18f8ad6"
          ]
        },
        "outputId": "06b41376-47f7-4f42-a6a5-92688ddc09c1"
      },
      "outputs": [
        {
          "output_type": "display_data",
          "data": {
            "text/plain": [
              "Button(button_style='success', description='Download', style=ButtonStyle())"
            ],
            "application/vnd.jupyter.widget-view+json": {
              "version_major": 2,
              "version_minor": 0,
              "model_id": "b18f20a8ec954b529741268214b4e662"
            }
          },
          "metadata": {}
        }
      ],
      "source": [
        "display(downloadButton)"
      ]
    }
  ],
  "metadata": {
    "colab": {
      "name": "Read Files to WordCloud.ipynb",
      "provenance": []
    },
    "interpreter": {
      "hash": "19832dc2299c5e30c82b0872710fbb1a2ad402d9f6dc93fb9e3c43efd97a0ad9"
    },
    "kernelspec": {
      "display_name": "Python 3.8.10 ('nuti')",
      "language": "python",
      "name": "python3"
    },
    "language_info": {
      "codemirror_mode": {
        "name": "ipython",
        "version": 3
      },
      "file_extension": ".py",
      "mimetype": "text/x-python",
      "name": "python",
      "nbconvert_exporter": "python",
      "pygments_lexer": "ipython3",
      "version": "3.8.10"
    },
    "orig_nbformat": 4,
    "widgets": {
      "application/vnd.jupyter.widget-state+json": {
        "5bb0bbbca4b54a30a4e74c86209c65c5": {
          "model_module": "@jupyter-widgets/controls",
          "model_name": "LabelModel",
          "model_module_version": "1.5.0",
          "state": {
            "_dom_classes": [],
            "_model_module": "@jupyter-widgets/controls",
            "_model_module_version": "1.5.0",
            "_model_name": "LabelModel",
            "_view_count": null,
            "_view_module": "@jupyter-widgets/controls",
            "_view_module_version": "1.5.0",
            "_view_name": "LabelView",
            "description": "",
            "description_tooltip": null,
            "layout": "IPY_MODEL_ed339157ea7f465f83fc033a27f1791c",
            "placeholder": "​",
            "style": "IPY_MODEL_1adabab780e74dab9a563cd774d6cc5f",
            "value": "Do you want to create individual word clouds for each file?"
          }
        },
        "ed339157ea7f465f83fc033a27f1791c": {
          "model_module": "@jupyter-widgets/base",
          "model_name": "LayoutModel",
          "model_module_version": "1.2.0",
          "state": {
            "_model_module": "@jupyter-widgets/base",
            "_model_module_version": "1.2.0",
            "_model_name": "LayoutModel",
            "_view_count": null,
            "_view_module": "@jupyter-widgets/base",
            "_view_module_version": "1.2.0",
            "_view_name": "LayoutView",
            "align_content": null,
            "align_items": null,
            "align_self": null,
            "border": null,
            "bottom": null,
            "display": null,
            "flex": null,
            "flex_flow": null,
            "grid_area": null,
            "grid_auto_columns": null,
            "grid_auto_flow": null,
            "grid_auto_rows": null,
            "grid_column": null,
            "grid_gap": null,
            "grid_row": null,
            "grid_template_areas": null,
            "grid_template_columns": null,
            "grid_template_rows": null,
            "height": null,
            "justify_content": null,
            "justify_items": null,
            "left": null,
            "margin": null,
            "max_height": null,
            "max_width": null,
            "min_height": null,
            "min_width": null,
            "object_fit": null,
            "object_position": null,
            "order": null,
            "overflow": null,
            "overflow_x": null,
            "overflow_y": null,
            "padding": null,
            "right": null,
            "top": null,
            "visibility": null,
            "width": null
          }
        },
        "1adabab780e74dab9a563cd774d6cc5f": {
          "model_module": "@jupyter-widgets/controls",
          "model_name": "DescriptionStyleModel",
          "model_module_version": "1.5.0",
          "state": {
            "_model_module": "@jupyter-widgets/controls",
            "_model_module_version": "1.5.0",
            "_model_name": "DescriptionStyleModel",
            "_view_count": null,
            "_view_module": "@jupyter-widgets/base",
            "_view_module_version": "1.2.0",
            "_view_name": "StyleView",
            "description_width": ""
          }
        },
        "e232e22640f84540bec4071cf9cce01d": {
          "model_module": "@jupyter-widgets/controls",
          "model_name": "ToggleButtonsModel",
          "model_module_version": "1.5.0",
          "state": {
            "_dom_classes": [],
            "_model_module": "@jupyter-widgets/controls",
            "_model_module_version": "1.5.0",
            "_model_name": "ToggleButtonsModel",
            "_options_labels": [
              "No",
              "Yes"
            ],
            "_view_count": null,
            "_view_module": "@jupyter-widgets/controls",
            "_view_module_version": "1.5.0",
            "_view_name": "ToggleButtonsView",
            "button_style": "info",
            "description": "",
            "description_tooltip": null,
            "disabled": false,
            "icons": [],
            "index": 0,
            "layout": "IPY_MODEL_16dee9a343a542a5ae938dc013337ee7",
            "style": "IPY_MODEL_0ac481b9bddc4a32aaef5be5f9e090ad",
            "tooltips": []
          }
        },
        "16dee9a343a542a5ae938dc013337ee7": {
          "model_module": "@jupyter-widgets/base",
          "model_name": "LayoutModel",
          "model_module_version": "1.2.0",
          "state": {
            "_model_module": "@jupyter-widgets/base",
            "_model_module_version": "1.2.0",
            "_model_name": "LayoutModel",
            "_view_count": null,
            "_view_module": "@jupyter-widgets/base",
            "_view_module_version": "1.2.0",
            "_view_name": "LayoutView",
            "align_content": null,
            "align_items": null,
            "align_self": null,
            "border": null,
            "bottom": null,
            "display": null,
            "flex": null,
            "flex_flow": null,
            "grid_area": null,
            "grid_auto_columns": null,
            "grid_auto_flow": null,
            "grid_auto_rows": null,
            "grid_column": null,
            "grid_gap": null,
            "grid_row": null,
            "grid_template_areas": null,
            "grid_template_columns": null,
            "grid_template_rows": null,
            "height": null,
            "justify_content": null,
            "justify_items": null,
            "left": null,
            "margin": null,
            "max_height": null,
            "max_width": null,
            "min_height": null,
            "min_width": null,
            "object_fit": null,
            "object_position": null,
            "order": null,
            "overflow": null,
            "overflow_x": null,
            "overflow_y": null,
            "padding": null,
            "right": null,
            "top": null,
            "visibility": null,
            "width": null
          }
        },
        "0ac481b9bddc4a32aaef5be5f9e090ad": {
          "model_module": "@jupyter-widgets/controls",
          "model_name": "ToggleButtonsStyleModel",
          "model_module_version": "1.5.0",
          "state": {
            "_model_module": "@jupyter-widgets/controls",
            "_model_module_version": "1.5.0",
            "_model_name": "ToggleButtonsStyleModel",
            "_view_count": null,
            "_view_module": "@jupyter-widgets/base",
            "_view_module_version": "1.2.0",
            "_view_name": "StyleView",
            "button_width": "",
            "description_width": "",
            "font_weight": ""
          }
        },
        "b30a373a3c2b4663a9c0c637f01794c6": {
          "model_module": "@jupyter-widgets/controls",
          "model_name": "LabelModel",
          "model_module_version": "1.5.0",
          "state": {
            "_dom_classes": [],
            "_model_module": "@jupyter-widgets/controls",
            "_model_module_version": "1.5.0",
            "_model_name": "LabelModel",
            "_view_count": null,
            "_view_module": "@jupyter-widgets/controls",
            "_view_module_version": "1.5.0",
            "_view_name": "LabelView",
            "description": "",
            "description_tooltip": null,
            "layout": "IPY_MODEL_a1ccea8c64794e8b878c5fe14cba3ec1",
            "placeholder": "​",
            "style": "IPY_MODEL_77e14bb1f6ae458fa4c1a73745771447",
            "value": "Are there scanned PDFs in your files?"
          }
        },
        "a1ccea8c64794e8b878c5fe14cba3ec1": {
          "model_module": "@jupyter-widgets/base",
          "model_name": "LayoutModel",
          "model_module_version": "1.2.0",
          "state": {
            "_model_module": "@jupyter-widgets/base",
            "_model_module_version": "1.2.0",
            "_model_name": "LayoutModel",
            "_view_count": null,
            "_view_module": "@jupyter-widgets/base",
            "_view_module_version": "1.2.0",
            "_view_name": "LayoutView",
            "align_content": null,
            "align_items": null,
            "align_self": null,
            "border": null,
            "bottom": null,
            "display": null,
            "flex": null,
            "flex_flow": null,
            "grid_area": null,
            "grid_auto_columns": null,
            "grid_auto_flow": null,
            "grid_auto_rows": null,
            "grid_column": null,
            "grid_gap": null,
            "grid_row": null,
            "grid_template_areas": null,
            "grid_template_columns": null,
            "grid_template_rows": null,
            "height": null,
            "justify_content": null,
            "justify_items": null,
            "left": null,
            "margin": null,
            "max_height": null,
            "max_width": null,
            "min_height": null,
            "min_width": null,
            "object_fit": null,
            "object_position": null,
            "order": null,
            "overflow": null,
            "overflow_x": null,
            "overflow_y": null,
            "padding": null,
            "right": null,
            "top": null,
            "visibility": null,
            "width": null
          }
        },
        "77e14bb1f6ae458fa4c1a73745771447": {
          "model_module": "@jupyter-widgets/controls",
          "model_name": "DescriptionStyleModel",
          "model_module_version": "1.5.0",
          "state": {
            "_model_module": "@jupyter-widgets/controls",
            "_model_module_version": "1.5.0",
            "_model_name": "DescriptionStyleModel",
            "_view_count": null,
            "_view_module": "@jupyter-widgets/base",
            "_view_module_version": "1.2.0",
            "_view_name": "StyleView",
            "description_width": ""
          }
        },
        "80cbc1748e3941578bd0c380fe255d1f": {
          "model_module": "@jupyter-widgets/controls",
          "model_name": "ToggleButtonsModel",
          "model_module_version": "1.5.0",
          "state": {
            "_dom_classes": [],
            "_model_module": "@jupyter-widgets/controls",
            "_model_module_version": "1.5.0",
            "_model_name": "ToggleButtonsModel",
            "_options_labels": [
              "No",
              "Yes"
            ],
            "_view_count": null,
            "_view_module": "@jupyter-widgets/controls",
            "_view_module_version": "1.5.0",
            "_view_name": "ToggleButtonsView",
            "button_style": "info",
            "description": "",
            "description_tooltip": null,
            "disabled": false,
            "icons": [],
            "index": 0,
            "layout": "IPY_MODEL_81390ea777c84aa6b151ad7d4177f240",
            "style": "IPY_MODEL_4c1e33dc600241728ac64f57cb607b52",
            "tooltips": []
          }
        },
        "81390ea777c84aa6b151ad7d4177f240": {
          "model_module": "@jupyter-widgets/base",
          "model_name": "LayoutModel",
          "model_module_version": "1.2.0",
          "state": {
            "_model_module": "@jupyter-widgets/base",
            "_model_module_version": "1.2.0",
            "_model_name": "LayoutModel",
            "_view_count": null,
            "_view_module": "@jupyter-widgets/base",
            "_view_module_version": "1.2.0",
            "_view_name": "LayoutView",
            "align_content": null,
            "align_items": null,
            "align_self": null,
            "border": null,
            "bottom": null,
            "display": null,
            "flex": null,
            "flex_flow": null,
            "grid_area": null,
            "grid_auto_columns": null,
            "grid_auto_flow": null,
            "grid_auto_rows": null,
            "grid_column": null,
            "grid_gap": null,
            "grid_row": null,
            "grid_template_areas": null,
            "grid_template_columns": null,
            "grid_template_rows": null,
            "height": null,
            "justify_content": null,
            "justify_items": null,
            "left": null,
            "margin": null,
            "max_height": null,
            "max_width": null,
            "min_height": null,
            "min_width": null,
            "object_fit": null,
            "object_position": null,
            "order": null,
            "overflow": null,
            "overflow_x": null,
            "overflow_y": null,
            "padding": null,
            "right": null,
            "top": null,
            "visibility": null,
            "width": null
          }
        },
        "4c1e33dc600241728ac64f57cb607b52": {
          "model_module": "@jupyter-widgets/controls",
          "model_name": "ToggleButtonsStyleModel",
          "model_module_version": "1.5.0",
          "state": {
            "_model_module": "@jupyter-widgets/controls",
            "_model_module_version": "1.5.0",
            "_model_name": "ToggleButtonsStyleModel",
            "_view_count": null,
            "_view_module": "@jupyter-widgets/base",
            "_view_module_version": "1.2.0",
            "_view_name": "StyleView",
            "button_width": "",
            "description_width": "",
            "font_weight": ""
          }
        },
        "4499b115bd95442babc6840641a089ee": {
          "model_module": "@jupyter-widgets/controls",
          "model_name": "LabelModel",
          "model_module_version": "1.5.0",
          "state": {
            "_dom_classes": [],
            "_model_module": "@jupyter-widgets/controls",
            "_model_module_version": "1.5.0",
            "_model_name": "LabelModel",
            "_view_count": null,
            "_view_module": "@jupyter-widgets/controls",
            "_view_module_version": "1.5.0",
            "_view_name": "LabelView",
            "description": "",
            "description_tooltip": null,
            "layout": "IPY_MODEL_65be354dff134e899683c0529125837b",
            "placeholder": "​",
            "style": "IPY_MODEL_d4bbccaf05a74cdeaaad444d4a4f32f0",
            "value": "Have you correctly tagged all scanned files?"
          }
        },
        "65be354dff134e899683c0529125837b": {
          "model_module": "@jupyter-widgets/base",
          "model_name": "LayoutModel",
          "model_module_version": "1.2.0",
          "state": {
            "_model_module": "@jupyter-widgets/base",
            "_model_module_version": "1.2.0",
            "_model_name": "LayoutModel",
            "_view_count": null,
            "_view_module": "@jupyter-widgets/base",
            "_view_module_version": "1.2.0",
            "_view_name": "LayoutView",
            "align_content": null,
            "align_items": null,
            "align_self": null,
            "border": null,
            "bottom": null,
            "display": null,
            "flex": null,
            "flex_flow": null,
            "grid_area": null,
            "grid_auto_columns": null,
            "grid_auto_flow": null,
            "grid_auto_rows": null,
            "grid_column": null,
            "grid_gap": null,
            "grid_row": null,
            "grid_template_areas": null,
            "grid_template_columns": null,
            "grid_template_rows": null,
            "height": null,
            "justify_content": null,
            "justify_items": null,
            "left": null,
            "margin": null,
            "max_height": null,
            "max_width": null,
            "min_height": null,
            "min_width": null,
            "object_fit": null,
            "object_position": null,
            "order": null,
            "overflow": null,
            "overflow_x": null,
            "overflow_y": null,
            "padding": null,
            "right": null,
            "top": null,
            "visibility": null,
            "width": null
          }
        },
        "d4bbccaf05a74cdeaaad444d4a4f32f0": {
          "model_module": "@jupyter-widgets/controls",
          "model_name": "DescriptionStyleModel",
          "model_module_version": "1.5.0",
          "state": {
            "_model_module": "@jupyter-widgets/controls",
            "_model_module_version": "1.5.0",
            "_model_name": "DescriptionStyleModel",
            "_view_count": null,
            "_view_module": "@jupyter-widgets/base",
            "_view_module_version": "1.2.0",
            "_view_name": "StyleView",
            "description_width": ""
          }
        },
        "2d700ee5c31d4b0eae431bccc6fa3c17": {
          "model_module": "@jupyter-widgets/controls",
          "model_name": "ToggleButtonsModel",
          "model_module_version": "1.5.0",
          "state": {
            "_dom_classes": [],
            "_model_module": "@jupyter-widgets/controls",
            "_model_module_version": "1.5.0",
            "_model_name": "ToggleButtonsModel",
            "_options_labels": [
              "No",
              "Yes"
            ],
            "_view_count": null,
            "_view_module": "@jupyter-widgets/controls",
            "_view_module_version": "1.5.0",
            "_view_name": "ToggleButtonsView",
            "button_style": "info",
            "description": "",
            "description_tooltip": null,
            "disabled": false,
            "icons": [],
            "index": 0,
            "layout": "IPY_MODEL_40e95d254b9f412887446aa0fbbaf864",
            "style": "IPY_MODEL_3f6da8bf402540498e91265419585e92",
            "tooltips": []
          }
        },
        "40e95d254b9f412887446aa0fbbaf864": {
          "model_module": "@jupyter-widgets/base",
          "model_name": "LayoutModel",
          "model_module_version": "1.2.0",
          "state": {
            "_model_module": "@jupyter-widgets/base",
            "_model_module_version": "1.2.0",
            "_model_name": "LayoutModel",
            "_view_count": null,
            "_view_module": "@jupyter-widgets/base",
            "_view_module_version": "1.2.0",
            "_view_name": "LayoutView",
            "align_content": null,
            "align_items": null,
            "align_self": null,
            "border": null,
            "bottom": null,
            "display": null,
            "flex": null,
            "flex_flow": null,
            "grid_area": null,
            "grid_auto_columns": null,
            "grid_auto_flow": null,
            "grid_auto_rows": null,
            "grid_column": null,
            "grid_gap": null,
            "grid_row": null,
            "grid_template_areas": null,
            "grid_template_columns": null,
            "grid_template_rows": null,
            "height": null,
            "justify_content": null,
            "justify_items": null,
            "left": null,
            "margin": null,
            "max_height": null,
            "max_width": null,
            "min_height": null,
            "min_width": null,
            "object_fit": null,
            "object_position": null,
            "order": null,
            "overflow": null,
            "overflow_x": null,
            "overflow_y": null,
            "padding": null,
            "right": null,
            "top": null,
            "visibility": null,
            "width": null
          }
        },
        "3f6da8bf402540498e91265419585e92": {
          "model_module": "@jupyter-widgets/controls",
          "model_name": "ToggleButtonsStyleModel",
          "model_module_version": "1.5.0",
          "state": {
            "_model_module": "@jupyter-widgets/controls",
            "_model_module_version": "1.5.0",
            "_model_name": "ToggleButtonsStyleModel",
            "_view_count": null,
            "_view_module": "@jupyter-widgets/base",
            "_view_module_version": "1.2.0",
            "_view_name": "StyleView",
            "button_width": "",
            "description_width": "",
            "font_weight": ""
          }
        },
        "bee124cff16c4013bfdade427bf2572f": {
          "model_module": "@jupyter-widgets/controls",
          "model_name": "ButtonModel",
          "model_module_version": "1.5.0",
          "state": {
            "_dom_classes": [],
            "_model_module": "@jupyter-widgets/controls",
            "_model_module_version": "1.5.0",
            "_model_name": "ButtonModel",
            "_view_count": null,
            "_view_module": "@jupyter-widgets/controls",
            "_view_module_version": "1.5.0",
            "_view_name": "ButtonView",
            "button_style": "success",
            "description": "Run",
            "disabled": false,
            "icon": "",
            "layout": "IPY_MODEL_772e92f22a9f4a3e813ce9e49873fbf3",
            "style": "IPY_MODEL_e3ed0485b0144b17b7652b6d4f37b298",
            "tooltip": ""
          }
        },
        "772e92f22a9f4a3e813ce9e49873fbf3": {
          "model_module": "@jupyter-widgets/base",
          "model_name": "LayoutModel",
          "model_module_version": "1.2.0",
          "state": {
            "_model_module": "@jupyter-widgets/base",
            "_model_module_version": "1.2.0",
            "_model_name": "LayoutModel",
            "_view_count": null,
            "_view_module": "@jupyter-widgets/base",
            "_view_module_version": "1.2.0",
            "_view_name": "LayoutView",
            "align_content": null,
            "align_items": null,
            "align_self": null,
            "border": null,
            "bottom": null,
            "display": null,
            "flex": null,
            "flex_flow": null,
            "grid_area": null,
            "grid_auto_columns": null,
            "grid_auto_flow": null,
            "grid_auto_rows": null,
            "grid_column": null,
            "grid_gap": null,
            "grid_row": null,
            "grid_template_areas": null,
            "grid_template_columns": null,
            "grid_template_rows": null,
            "height": null,
            "justify_content": null,
            "justify_items": null,
            "left": null,
            "margin": null,
            "max_height": null,
            "max_width": null,
            "min_height": null,
            "min_width": null,
            "object_fit": null,
            "object_position": null,
            "order": null,
            "overflow": null,
            "overflow_x": null,
            "overflow_y": null,
            "padding": null,
            "right": null,
            "top": null,
            "visibility": null,
            "width": null
          }
        },
        "e3ed0485b0144b17b7652b6d4f37b298": {
          "model_module": "@jupyter-widgets/controls",
          "model_name": "ButtonStyleModel",
          "model_module_version": "1.5.0",
          "state": {
            "_model_module": "@jupyter-widgets/controls",
            "_model_module_version": "1.5.0",
            "_model_name": "ButtonStyleModel",
            "_view_count": null,
            "_view_module": "@jupyter-widgets/base",
            "_view_module_version": "1.2.0",
            "_view_name": "StyleView",
            "button_color": null,
            "font_weight": ""
          }
        },
        "b18f20a8ec954b529741268214b4e662": {
          "model_module": "@jupyter-widgets/controls",
          "model_name": "ButtonModel",
          "model_module_version": "1.5.0",
          "state": {
            "_dom_classes": [],
            "_model_module": "@jupyter-widgets/controls",
            "_model_module_version": "1.5.0",
            "_model_name": "ButtonModel",
            "_view_count": null,
            "_view_module": "@jupyter-widgets/controls",
            "_view_module_version": "1.5.0",
            "_view_name": "ButtonView",
            "button_style": "success",
            "description": "Download",
            "disabled": false,
            "icon": "",
            "layout": "IPY_MODEL_2c833b8ae1a34ed39d9acb55318310de",
            "style": "IPY_MODEL_5703e1d14c464e5ea12b6852b18f8ad6",
            "tooltip": ""
          }
        },
        "2c833b8ae1a34ed39d9acb55318310de": {
          "model_module": "@jupyter-widgets/base",
          "model_name": "LayoutModel",
          "model_module_version": "1.2.0",
          "state": {
            "_model_module": "@jupyter-widgets/base",
            "_model_module_version": "1.2.0",
            "_model_name": "LayoutModel",
            "_view_count": null,
            "_view_module": "@jupyter-widgets/base",
            "_view_module_version": "1.2.0",
            "_view_name": "LayoutView",
            "align_content": null,
            "align_items": null,
            "align_self": null,
            "border": null,
            "bottom": null,
            "display": null,
            "flex": null,
            "flex_flow": null,
            "grid_area": null,
            "grid_auto_columns": null,
            "grid_auto_flow": null,
            "grid_auto_rows": null,
            "grid_column": null,
            "grid_gap": null,
            "grid_row": null,
            "grid_template_areas": null,
            "grid_template_columns": null,
            "grid_template_rows": null,
            "height": null,
            "justify_content": null,
            "justify_items": null,
            "left": null,
            "margin": null,
            "max_height": null,
            "max_width": null,
            "min_height": null,
            "min_width": null,
            "object_fit": null,
            "object_position": null,
            "order": null,
            "overflow": null,
            "overflow_x": null,
            "overflow_y": null,
            "padding": null,
            "right": null,
            "top": null,
            "visibility": null,
            "width": null
          }
        },
        "5703e1d14c464e5ea12b6852b18f8ad6": {
          "model_module": "@jupyter-widgets/controls",
          "model_name": "ButtonStyleModel",
          "model_module_version": "1.5.0",
          "state": {
            "_model_module": "@jupyter-widgets/controls",
            "_model_module_version": "1.5.0",
            "_model_name": "ButtonStyleModel",
            "_view_count": null,
            "_view_module": "@jupyter-widgets/base",
            "_view_module_version": "1.2.0",
            "_view_name": "StyleView",
            "button_color": null,
            "font_weight": ""
          }
        }
      }
    }
  },
  "nbformat": 4,
  "nbformat_minor": 0
}