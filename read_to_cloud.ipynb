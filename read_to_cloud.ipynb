{
  "cells": [
    {
      "cell_type": "markdown",
      "metadata": {
        "id": "a-_Xj0erig13"
      },
      "source": [
        "### Scenarios:\n",
        "1. Single file -> Single word cloud\n",
        "2. Multiple files -> Single word cloud\n",
        "3. Multiple files -> Multiple word clouds + Combined word cloud\n",
        "\n",
        "### Limitations:\n",
        "* Text in images cannot be read. Here is a [workaround](https://www.thewindowsclub.com/extract-text-from-an-image-in-word) to extract text from images.\n",
        "* Scanned PDFs _(You know a PDF was scanned if you can't select text with your mouse when you open it normally)_\n",
        "    * SOTA OCR methods are still not perfect\n",
        "    * OCR text recognition takes longer to run\n",
        "    * \\*Key takeaway: If you can get a machine-generated PDF, use that, else tag your **scanned PDF** files properly by renaming the to end with `_scanned.pdf`"
      ]
    },
    {
      "cell_type": "markdown",
      "metadata": {
        "id": "wV_0pbrIig2F"
      },
      "source": [
        "---"
      ]
    },
    {
      "cell_type": "markdown",
      "metadata": {
        "id": "qnOLVcX3ig2L"
      },
      "source": [
        "Install necessary libraries:  \n",
        "* **iPython Widgets** - For creating buttons\n",
        "* **NLTK** - For basic NLP, like getting stop words\n",
        "* **PDF Plumber** - For reading machine generated PDFs\n",
        "* **PyMuPDF (fitz)** - For reading scanned PDFs\n",
        "* **PyTesseract** - For OCR in conjunction with fitz pages\n",
        "* **TQDM** - Progress bar"
      ]
    },
    {
      "cell_type": "code",
      "source": [
        "!pip install ipywidgets -q\n",
        "!pip install nltk -q\n",
        "!pip install pdfplumber -q\n",
        "!pip install pymupdf -q\n",
        "!pip install pytesseract -q\n",
        "!pip install tqdm -q"
      ],
      "metadata": {
        "id": "fp5hJcQ8C-BX"
      },
      "execution_count": 1,
      "outputs": []
    },
    {
      "cell_type": "code",
      "execution_count": 2,
      "metadata": {
        "colab": {
          "base_uri": "https://localhost:8080/"
        },
        "id": "0qf4vfagig2o",
        "outputId": "f3ed6fc0-201a-48c5-aed0-793422024511"
      },
      "outputs": [
        {
          "output_type": "stream",
          "name": "stdout",
          "text": [
            "49 packages can be upgraded. Run 'apt list --upgradable' to see them.\n",
            "tesseract-ocr is already the newest version (4.00~git2288-10f4998a-2).\n",
            "The following package was automatically installed and is no longer required:\n",
            "  libnvidia-common-460\n",
            "Use 'sudo apt autoremove' to remove it.\n",
            "0 upgraded, 0 newly installed, 0 to remove and 49 not upgraded.\n",
            "libtesseract-dev is already the newest version (4.00~git2288-10f4998a-2).\n",
            "The following package was automatically installed and is no longer required:\n",
            "  libnvidia-common-460\n",
            "Use 'sudo apt autoremove' to remove it.\n",
            "0 upgraded, 0 newly installed, 0 to remove and 49 not upgraded.\n"
          ]
        }
      ],
      "source": [
        "!sudo apt -qq update\n",
        "!sudo apt -qq install tesseract-ocr\n",
        "!sudo apt -qq install libtesseract-dev"
      ]
    },
    {
      "cell_type": "markdown",
      "metadata": {
        "id": "QGpiyV3big2s"
      },
      "source": [
        "Import libraries"
      ]
    },
    {
      "cell_type": "code",
      "execution_count": 3,
      "metadata": {
        "id": "ZlVigKglig2v"
      },
      "outputs": [],
      "source": [
        "import matplotlib.pyplot as plt\n",
        "import re\n",
        "import os\n",
        "import zipfile\n",
        "\n",
        "import fitz\n",
        "import ipywidgets as widgets\n",
        "import nltk\n",
        "import pdfplumber\n",
        "import pytesseract\n",
        "\n",
        "from collections import Counter\n",
        "from IPython.display import clear_output\n",
        "from nltk.corpus import stopwords\n",
        "from os import listdir\n",
        "from os.path import isfile, join\n",
        "from tqdm import tqdm\n",
        "from wordcloud import WordCloud"
      ]
    },
    {
      "cell_type": "markdown",
      "source": [
        "Download NLTK stopwords"
      ],
      "metadata": {
        "id": "PxuSSkMHjcLA"
      }
    },
    {
      "cell_type": "code",
      "source": [
        "nltk.download('stopwords')"
      ],
      "metadata": {
        "colab": {
          "base_uri": "https://localhost:8080/"
        },
        "id": "4TIxjqTjjaj2",
        "outputId": "704bfd07-4cef-4837-c603-930ac64af59c"
      },
      "execution_count": 4,
      "outputs": [
        {
          "output_type": "stream",
          "name": "stderr",
          "text": [
            "[nltk_data] Downloading package stopwords to /root/nltk_data...\n",
            "[nltk_data]   Package stopwords is already up-to-date!\n"
          ]
        },
        {
          "output_type": "execute_result",
          "data": {
            "text/plain": [
              "True"
            ]
          },
          "metadata": {},
          "execution_count": 4
        }
      ]
    },
    {
      "cell_type": "markdown",
      "source": [
        "Parameter defaults"
      ],
      "metadata": {
        "id": "GmIISEj8agcj"
      }
    },
    {
      "cell_type": "code",
      "execution_count": 5,
      "metadata": {
        "id": "0kQq6sf7ig2y"
      },
      "outputs": [],
      "source": [
        "if not os.path.isdir('./data'):\n",
        "        os.mkdir('data')\n",
        "\n",
        "DATA_PATH = \"./data\"\n",
        "INDIVIDUAL_WORD_CLOUDS = False\n",
        "CONTAINS_SCANNED_PDFS = False # Set to true if you know your data contains scanned documents, but you cannot specify which are scanned\n",
        "SCANNED_PDFS_TAGGED = False # Only set to True if you have named ALL scanned PDFs correctly i.e. file name ends with _scanned.pdf"
      ]
    },
    {
      "cell_type": "markdown",
      "source": [
        "Main functions"
      ],
      "metadata": {
        "id": "rcBZmuzZjmOo"
      }
    },
    {
      "cell_type": "code",
      "execution_count": 6,
      "metadata": {
        "id": "JQ86TCbyig2z"
      },
      "outputs": [],
      "source": [
        "def read_file(file_path: str) -> str:\n",
        "    file_string = \"\"\n",
        "    try:\n",
        "        # PDF\n",
        "        if file_path.endswith('.pdf'):\n",
        "            if SCANNED_PDFS_TAGGED: #Assumed that you know which ones were scanned\n",
        "                if file_path.endswith(\"_scanned.pdf\"): #These were scanned\n",
        "                    doc = fitz.open(file_path)\n",
        "                    for page in doc:\n",
        "                        pix = page.get_pixmap()\n",
        "                        output = \"outfile.png\"\n",
        "                        pix.save(output)\n",
        "                        file_string += (pytesseract.image_to_string('outfile.png').lower() + \" \")\n",
        "                        os.remove(\"./outfile.png\") \n",
        "                else: #These were not scanned\n",
        "                    with pdfplumber.open(file_path) as pdf:\n",
        "                        for page in pdf.pages:\n",
        "                            file_string += (page.extract_text().lower() + \" \")\n",
        "            elif CONTAINS_SCANNED_PDFS: # Assumed that you DON'T know which were scanned, but you know that there ARE scanned documents\n",
        "                # Treat everything like it was scanned\n",
        "                doc = fitz.open(file_path)\n",
        "                for page in doc:\n",
        "                    pix = page.get_pixmap()\n",
        "                    output = \"outfile.png\"\n",
        "                    pix.save(output)\n",
        "                    file_string += (pytesseract.image_to_string('outfile.png').lower() + \" \")\n",
        "                    os.remove(\"./outfile.png\") \n",
        "            else: # You know nothing was scanned\n",
        "                with pdfplumber.open(file_path) as pdf:\n",
        "                    for page in pdf.pages:\n",
        "                        file_string += (page.extract_text().lower() + \" \")\n",
        "        # Word Document\n",
        "        elif file_path.endswith(('.doc', '.docx')):\n",
        "            docx = zipfile.ZipFile(file_path)\n",
        "            file_string = docx.read('word/document.xml').decode('utf-8')\n",
        "            file_string = re.sub('<(.|\\n)*?>','',file_string).lower()\n",
        "        # Plain Text\n",
        "        else:\n",
        "            with open(file_path, 'r') as f:\n",
        "                file_string = f.read().lower()\n",
        "    except Exception as e:\n",
        "        print(f\"Error: {e}\")\n",
        "    finally:\n",
        "        return file_string\n",
        "  \n",
        "\n",
        "def create_word_cloud(text, title):\n",
        "    # Removing non-alphanumeric characters in string\n",
        "    re_pattern = re.compile(r'[^\\w\\s]', re.UNICODE)\n",
        "    text = re_pattern.sub('', text)\n",
        "\n",
        "    # Remove unnecessary words (stop words) like \"the\", \"and\", etc.\n",
        "    words_to_count = text.split() # Split sentence into list of words\n",
        "    stop_word_set = set(stopwords.words('english'))\n",
        "    words_to_count = [word for word in words_to_count if word not in stop_word_set] # Remove stop words\n",
        "\n",
        "    # Count the words using Python's Counter\n",
        "    word_cloud_dict = Counter(words_to_count)\n",
        "\n",
        "    # Create the word cloud from the counted words\n",
        "    try:\n",
        "        wordcloud = WordCloud(\n",
        "                      max_font_size=40, \n",
        "                      background_color=\"white\"\n",
        "                    ).generate_from_frequencies(word_cloud_dict)\n",
        "\n",
        "        # Display the generated image:\n",
        "        plt.figure(figsize=(16, 10))\n",
        "        plt.imshow(wordcloud, interpolation='bilinear')\n",
        "        plt.axis(\"off\")\n",
        "        plt.title(title)\n",
        "        plt.savefig(f\"./output/{title}.png\")\n",
        "        plt.show()\n",
        "    except Exception as e:\n",
        "        print(f\"ERROR: {e}\")\n",
        "        print(\"IT APPEARS YOU TRIED TO RUN THIS SCRIPT ON A SCANNED OR EMPTY DOCUMENT WITHOUT THE RIGHT PARAMETERS!\")\n",
        "        print()\n",
        "        print(\"Things to check...\")\n",
        "        print(\"1. Make sure the data folder contains at least one file\")\n",
        "        print(\"2. If you know which PDFs are scanned, rename them to end with _scanned.pdf, and set SCANNED_PDFS_TAGGED to True\")\n",
        "        print(\"3. If you do not know which PDFs are scanned, set CONTAINS_SCANNED_PDFS to True\")"
      ]
    },
    {
      "cell_type": "markdown",
      "source": [
        "Create Widgets"
      ],
      "metadata": {
        "id": "iZWN9HyQaIzS"
      }
    },
    {
      "cell_type": "code",
      "source": [
        "convert_yes_no = {\n",
        "    \"yes\": True,\n",
        "    \"no\": False\n",
        "}\n",
        "\n",
        "# Create Individual Word Clouds\n",
        "individualCaption = widgets.Label(value=\"Do you want to create individual word clouds for each file?\")\n",
        "toggleIndividualBtn = widgets.ToggleButtons(\n",
        "    options=[\"No\", \"Yes\"],\n",
        "    disabled=False,\n",
        "    button_style='info', # 'success', 'info', 'warning', 'danger' or ''\n",
        ")\n",
        "def handleToggleIndividualBtnChange(change):\n",
        "  global INDIVIDUAL_WORD_CLOUDS\n",
        "  INDIVIDUAL_WORD_CLOUDS = convert_yes_no[change.new.lower()]\n",
        "toggleIndividualBtn.observe(handleToggleIndividualBtnChange, names='value')\n",
        "\n",
        "# Scanned PDF's contained?\n",
        "containsScannedCaption = widgets.Label(value=\"Are there scanned PDFs in your files?\")\n",
        "toggleContainsScannedlBtn = widgets.ToggleButtons(\n",
        "    options=[\"No\", \"Yes\"],\n",
        "    disabled=False,\n",
        "    button_style='info', # 'success', 'info', 'warning', 'danger' or ''\n",
        ")\n",
        "def handleToggleContainsScannedlBtnChange(change):\n",
        "  global CONTAINS_SCANNED_PDFS\n",
        "  CONTAINS_SCANNED_PDFS = convert_yes_no[change.new.lower()]\n",
        "toggleContainsScannedlBtn.observe(handleToggleContainsScannedlBtnChange, names='value')\n",
        "\n",
        "# Scanned PDFs tagged?\n",
        "scannedTaggedCaption = widgets.Label(value=\"Have you correctly tagged all scanned files?\")\n",
        "togglescannedTaggedBtn = widgets.ToggleButtons(\n",
        "    options=[\"No\", \"Yes\"],\n",
        "    disabled=False,\n",
        "    button_style='info', # 'success', 'info', 'warning', 'danger' or ''\n",
        ")\n",
        "def handleTogglescannedTaggedBtnChange(change):\n",
        "  global SCANNED_PDFS_TAGGED\n",
        "  SCANNED_PDFS_TAGGED = convert_yes_no[change.new.lower()]\n",
        "togglescannedTaggedBtn.observe(handleTogglescannedTaggedBtnChange, names='value')\n",
        "\n",
        "# Run button\n",
        "runButton = widgets.Button(\n",
        "    description=\"Run\",\n",
        "    button_style='success')\n",
        "def on_run_button_clicked(b):\n",
        "    clear_output(wait=True)\n",
        "    display(runButton)\n",
        "    combined_file_text = \"\"\n",
        "    if not os.path.isdir('output'):\n",
        "        os.mkdir('output')\n",
        "    for file_path in tqdm([f for f in listdir(DATA_PATH) if isfile(join(DATA_PATH, f))]):\n",
        "        file_path = join(DATA_PATH, file_path)\n",
        "        print(file_path)\n",
        "        file_text = read_file(file_path)\n",
        "        if INDIVIDUAL_WORD_CLOUDS:\n",
        "            create_word_cloud(file_text, file_path.split(\"/\")[-1])\n",
        "        combined_file_text += file_text\n",
        "    print(\"Combined Word Cloud\")\n",
        "    create_word_cloud(combined_file_text, \"Combined Word Cloud\")\n",
        "    print(\"### DONE ###\")\n",
        "runButton.on_click(on_run_button_clicked)"
      ],
      "metadata": {
        "id": "qvK7KsJfES4U"
      },
      "execution_count": 7,
      "outputs": []
    },
    {
      "cell_type": "markdown",
      "metadata": {
        "id": "CIYuLmebig2w"
      },
      "source": [
        "Set parameters using widgets:"
      ]
    },
    {
      "cell_type": "code",
      "source": [
        "display(individualCaption, toggleIndividualBtn)\n",
        "display(containsScannedCaption, toggleContainsScannedlBtn)\n",
        "display(scannedTaggedCaption, togglescannedTaggedBtn)"
      ],
      "metadata": {
        "colab": {
          "base_uri": "https://localhost:8080/",
          "height": 200,
          "referenced_widgets": [
            "d6b0cad82ae14bf88ea801a1e6fcc7c1",
            "fa7b64dc243849ecac2873e6669210d1",
            "64bdf67dbc5e466a87dd1127dd618d89",
            "fa28f089f87d4da78edaac3aea81ff8b",
            "9677fcbb3fe04cb7911e76c79396b435",
            "daa0a197f5054bb882437b02cc501e35",
            "3a10f67067fe4ed0b188b8f36fe64dfb",
            "d5c5966c1c5d4b12ad5e75cd6a84cdf4",
            "0751adbe75044bd6bf7b3fed862dd146",
            "664733a53b514cc297d9623bb378622e",
            "893251f128614918aee74792734caa80",
            "1ac6d4eb4a9b483ba70dfc6bf318e0c1",
            "f0e96969a84544939bc571f82a6d1f6b",
            "e00ae48a618840779137a7638587f31f",
            "c913211c13aa40708b6fe8334b8902d0",
            "52bcd7ec2cb34c72807a45b99c622b1c",
            "090437b1bb3949519827f4b965b271f0",
            "ac8f5be80270450ab8fecfa8fdfcf556"
          ]
        },
        "id": "T-9VjZMxZ_As",
        "outputId": "e4370260-8737-4be8-802f-389eae5cce03"
      },
      "execution_count": 8,
      "outputs": [
        {
          "output_type": "display_data",
          "data": {
            "text/plain": [
              "Label(value='Do you want to create individual word clouds for each file?')"
            ],
            "application/vnd.jupyter.widget-view+json": {
              "version_major": 2,
              "version_minor": 0,
              "model_id": "d6b0cad82ae14bf88ea801a1e6fcc7c1"
            }
          },
          "metadata": {}
        },
        {
          "output_type": "display_data",
          "data": {
            "text/plain": [
              "ToggleButtons(button_style='info', options=('No', 'Yes'), value='No')"
            ],
            "application/vnd.jupyter.widget-view+json": {
              "version_major": 2,
              "version_minor": 0,
              "model_id": "fa28f089f87d4da78edaac3aea81ff8b"
            }
          },
          "metadata": {}
        },
        {
          "output_type": "display_data",
          "data": {
            "text/plain": [
              "Label(value='Are there scanned PDFs in your files?')"
            ],
            "application/vnd.jupyter.widget-view+json": {
              "version_major": 2,
              "version_minor": 0,
              "model_id": "3a10f67067fe4ed0b188b8f36fe64dfb"
            }
          },
          "metadata": {}
        },
        {
          "output_type": "display_data",
          "data": {
            "text/plain": [
              "ToggleButtons(button_style='info', options=('No', 'Yes'), value='No')"
            ],
            "application/vnd.jupyter.widget-view+json": {
              "version_major": 2,
              "version_minor": 0,
              "model_id": "664733a53b514cc297d9623bb378622e"
            }
          },
          "metadata": {}
        },
        {
          "output_type": "display_data",
          "data": {
            "text/plain": [
              "Label(value='Have you correctly tagged all scanned files?')"
            ],
            "application/vnd.jupyter.widget-view+json": {
              "version_major": 2,
              "version_minor": 0,
              "model_id": "f0e96969a84544939bc571f82a6d1f6b"
            }
          },
          "metadata": {}
        },
        {
          "output_type": "display_data",
          "data": {
            "text/plain": [
              "ToggleButtons(button_style='info', options=('No', 'Yes'), value='No')"
            ],
            "application/vnd.jupyter.widget-view+json": {
              "version_major": 2,
              "version_minor": 0,
              "model_id": "52bcd7ec2cb34c72807a45b99c622b1c"
            }
          },
          "metadata": {}
        }
      ]
    },
    {
      "cell_type": "markdown",
      "source": [
        "Run"
      ],
      "metadata": {
        "id": "2D1ou3fDavdC"
      }
    },
    {
      "cell_type": "code",
      "source": [
        "display(runButton)"
      ],
      "metadata": {
        "colab": {
          "base_uri": "https://localhost:8080/",
          "height": 49,
          "referenced_widgets": [
            "e0d14d416ce5408da18ed3740efb6d77",
            "8ab1728dac5f4e5d816ab0b7137b6487",
            "00818fa8724e4d268877062053d277bd"
          ]
        },
        "id": "n2kZM1ySZUJF",
        "outputId": "4ecce211-051f-4315-a15c-6fff5895fb76"
      },
      "execution_count": 9,
      "outputs": [
        {
          "output_type": "display_data",
          "data": {
            "text/plain": [
              "Button(button_style='success', description='Run', style=ButtonStyle())"
            ],
            "application/vnd.jupyter.widget-view+json": {
              "version_major": 2,
              "version_minor": 0,
              "model_id": "e0d14d416ce5408da18ed3740efb6d77"
            }
          },
          "metadata": {}
        }
      ]
    },
    {
      "cell_type": "code",
      "source": [
        ""
      ],
      "metadata": {
        "id": "at6QDaeYcU6j"
      },
      "execution_count": 9,
      "outputs": []
    }
  ],
  "metadata": {
    "interpreter": {
      "hash": "19832dc2299c5e30c82b0872710fbb1a2ad402d9f6dc93fb9e3c43efd97a0ad9"
    },
    "kernelspec": {
      "display_name": "Python 3.8.10 ('nuti')",
      "language": "python",
      "name": "python3"
    },
    "language_info": {
      "codemirror_mode": {
        "name": "ipython",
        "version": 3
      },
      "file_extension": ".py",
      "mimetype": "text/x-python",
      "name": "python",
      "nbconvert_exporter": "python",
      "pygments_lexer": "ipython3",
      "version": "3.8.10"
    },
    "orig_nbformat": 4,
    "colab": {
      "name": "read_to_cloud.ipynb",
      "provenance": []
    },
    "widgets": {
      "application/vnd.jupyter.widget-state+json": {
        "d6b0cad82ae14bf88ea801a1e6fcc7c1": {
          "model_module": "@jupyter-widgets/controls",
          "model_name": "LabelModel",
          "model_module_version": "1.5.0",
          "state": {
            "_dom_classes": [],
            "_model_module": "@jupyter-widgets/controls",
            "_model_module_version": "1.5.0",
            "_model_name": "LabelModel",
            "_view_count": null,
            "_view_module": "@jupyter-widgets/controls",
            "_view_module_version": "1.5.0",
            "_view_name": "LabelView",
            "description": "",
            "description_tooltip": null,
            "layout": "IPY_MODEL_fa7b64dc243849ecac2873e6669210d1",
            "placeholder": "​",
            "style": "IPY_MODEL_64bdf67dbc5e466a87dd1127dd618d89",
            "value": "Do you want to create individual word clouds for each file?"
          }
        },
        "fa7b64dc243849ecac2873e6669210d1": {
          "model_module": "@jupyter-widgets/base",
          "model_name": "LayoutModel",
          "model_module_version": "1.2.0",
          "state": {
            "_model_module": "@jupyter-widgets/base",
            "_model_module_version": "1.2.0",
            "_model_name": "LayoutModel",
            "_view_count": null,
            "_view_module": "@jupyter-widgets/base",
            "_view_module_version": "1.2.0",
            "_view_name": "LayoutView",
            "align_content": null,
            "align_items": null,
            "align_self": null,
            "border": null,
            "bottom": null,
            "display": null,
            "flex": null,
            "flex_flow": null,
            "grid_area": null,
            "grid_auto_columns": null,
            "grid_auto_flow": null,
            "grid_auto_rows": null,
            "grid_column": null,
            "grid_gap": null,
            "grid_row": null,
            "grid_template_areas": null,
            "grid_template_columns": null,
            "grid_template_rows": null,
            "height": null,
            "justify_content": null,
            "justify_items": null,
            "left": null,
            "margin": null,
            "max_height": null,
            "max_width": null,
            "min_height": null,
            "min_width": null,
            "object_fit": null,
            "object_position": null,
            "order": null,
            "overflow": null,
            "overflow_x": null,
            "overflow_y": null,
            "padding": null,
            "right": null,
            "top": null,
            "visibility": null,
            "width": null
          }
        },
        "64bdf67dbc5e466a87dd1127dd618d89": {
          "model_module": "@jupyter-widgets/controls",
          "model_name": "DescriptionStyleModel",
          "model_module_version": "1.5.0",
          "state": {
            "_model_module": "@jupyter-widgets/controls",
            "_model_module_version": "1.5.0",
            "_model_name": "DescriptionStyleModel",
            "_view_count": null,
            "_view_module": "@jupyter-widgets/base",
            "_view_module_version": "1.2.0",
            "_view_name": "StyleView",
            "description_width": ""
          }
        },
        "fa28f089f87d4da78edaac3aea81ff8b": {
          "model_module": "@jupyter-widgets/controls",
          "model_name": "ToggleButtonsModel",
          "model_module_version": "1.5.0",
          "state": {
            "_dom_classes": [],
            "_model_module": "@jupyter-widgets/controls",
            "_model_module_version": "1.5.0",
            "_model_name": "ToggleButtonsModel",
            "_options_labels": [
              "No",
              "Yes"
            ],
            "_view_count": null,
            "_view_module": "@jupyter-widgets/controls",
            "_view_module_version": "1.5.0",
            "_view_name": "ToggleButtonsView",
            "button_style": "info",
            "description": "",
            "description_tooltip": null,
            "disabled": false,
            "icons": [],
            "index": 0,
            "layout": "IPY_MODEL_9677fcbb3fe04cb7911e76c79396b435",
            "style": "IPY_MODEL_daa0a197f5054bb882437b02cc501e35",
            "tooltips": []
          }
        },
        "9677fcbb3fe04cb7911e76c79396b435": {
          "model_module": "@jupyter-widgets/base",
          "model_name": "LayoutModel",
          "model_module_version": "1.2.0",
          "state": {
            "_model_module": "@jupyter-widgets/base",
            "_model_module_version": "1.2.0",
            "_model_name": "LayoutModel",
            "_view_count": null,
            "_view_module": "@jupyter-widgets/base",
            "_view_module_version": "1.2.0",
            "_view_name": "LayoutView",
            "align_content": null,
            "align_items": null,
            "align_self": null,
            "border": null,
            "bottom": null,
            "display": null,
            "flex": null,
            "flex_flow": null,
            "grid_area": null,
            "grid_auto_columns": null,
            "grid_auto_flow": null,
            "grid_auto_rows": null,
            "grid_column": null,
            "grid_gap": null,
            "grid_row": null,
            "grid_template_areas": null,
            "grid_template_columns": null,
            "grid_template_rows": null,
            "height": null,
            "justify_content": null,
            "justify_items": null,
            "left": null,
            "margin": null,
            "max_height": null,
            "max_width": null,
            "min_height": null,
            "min_width": null,
            "object_fit": null,
            "object_position": null,
            "order": null,
            "overflow": null,
            "overflow_x": null,
            "overflow_y": null,
            "padding": null,
            "right": null,
            "top": null,
            "visibility": null,
            "width": null
          }
        },
        "daa0a197f5054bb882437b02cc501e35": {
          "model_module": "@jupyter-widgets/controls",
          "model_name": "ToggleButtonsStyleModel",
          "model_module_version": "1.5.0",
          "state": {
            "_model_module": "@jupyter-widgets/controls",
            "_model_module_version": "1.5.0",
            "_model_name": "ToggleButtonsStyleModel",
            "_view_count": null,
            "_view_module": "@jupyter-widgets/base",
            "_view_module_version": "1.2.0",
            "_view_name": "StyleView",
            "button_width": "",
            "description_width": "",
            "font_weight": ""
          }
        },
        "3a10f67067fe4ed0b188b8f36fe64dfb": {
          "model_module": "@jupyter-widgets/controls",
          "model_name": "LabelModel",
          "model_module_version": "1.5.0",
          "state": {
            "_dom_classes": [],
            "_model_module": "@jupyter-widgets/controls",
            "_model_module_version": "1.5.0",
            "_model_name": "LabelModel",
            "_view_count": null,
            "_view_module": "@jupyter-widgets/controls",
            "_view_module_version": "1.5.0",
            "_view_name": "LabelView",
            "description": "",
            "description_tooltip": null,
            "layout": "IPY_MODEL_d5c5966c1c5d4b12ad5e75cd6a84cdf4",
            "placeholder": "​",
            "style": "IPY_MODEL_0751adbe75044bd6bf7b3fed862dd146",
            "value": "Are there scanned PDFs in your files?"
          }
        },
        "d5c5966c1c5d4b12ad5e75cd6a84cdf4": {
          "model_module": "@jupyter-widgets/base",
          "model_name": "LayoutModel",
          "model_module_version": "1.2.0",
          "state": {
            "_model_module": "@jupyter-widgets/base",
            "_model_module_version": "1.2.0",
            "_model_name": "LayoutModel",
            "_view_count": null,
            "_view_module": "@jupyter-widgets/base",
            "_view_module_version": "1.2.0",
            "_view_name": "LayoutView",
            "align_content": null,
            "align_items": null,
            "align_self": null,
            "border": null,
            "bottom": null,
            "display": null,
            "flex": null,
            "flex_flow": null,
            "grid_area": null,
            "grid_auto_columns": null,
            "grid_auto_flow": null,
            "grid_auto_rows": null,
            "grid_column": null,
            "grid_gap": null,
            "grid_row": null,
            "grid_template_areas": null,
            "grid_template_columns": null,
            "grid_template_rows": null,
            "height": null,
            "justify_content": null,
            "justify_items": null,
            "left": null,
            "margin": null,
            "max_height": null,
            "max_width": null,
            "min_height": null,
            "min_width": null,
            "object_fit": null,
            "object_position": null,
            "order": null,
            "overflow": null,
            "overflow_x": null,
            "overflow_y": null,
            "padding": null,
            "right": null,
            "top": null,
            "visibility": null,
            "width": null
          }
        },
        "0751adbe75044bd6bf7b3fed862dd146": {
          "model_module": "@jupyter-widgets/controls",
          "model_name": "DescriptionStyleModel",
          "model_module_version": "1.5.0",
          "state": {
            "_model_module": "@jupyter-widgets/controls",
            "_model_module_version": "1.5.0",
            "_model_name": "DescriptionStyleModel",
            "_view_count": null,
            "_view_module": "@jupyter-widgets/base",
            "_view_module_version": "1.2.0",
            "_view_name": "StyleView",
            "description_width": ""
          }
        },
        "664733a53b514cc297d9623bb378622e": {
          "model_module": "@jupyter-widgets/controls",
          "model_name": "ToggleButtonsModel",
          "model_module_version": "1.5.0",
          "state": {
            "_dom_classes": [],
            "_model_module": "@jupyter-widgets/controls",
            "_model_module_version": "1.5.0",
            "_model_name": "ToggleButtonsModel",
            "_options_labels": [
              "No",
              "Yes"
            ],
            "_view_count": null,
            "_view_module": "@jupyter-widgets/controls",
            "_view_module_version": "1.5.0",
            "_view_name": "ToggleButtonsView",
            "button_style": "info",
            "description": "",
            "description_tooltip": null,
            "disabled": false,
            "icons": [],
            "index": 0,
            "layout": "IPY_MODEL_893251f128614918aee74792734caa80",
            "style": "IPY_MODEL_1ac6d4eb4a9b483ba70dfc6bf318e0c1",
            "tooltips": []
          }
        },
        "893251f128614918aee74792734caa80": {
          "model_module": "@jupyter-widgets/base",
          "model_name": "LayoutModel",
          "model_module_version": "1.2.0",
          "state": {
            "_model_module": "@jupyter-widgets/base",
            "_model_module_version": "1.2.0",
            "_model_name": "LayoutModel",
            "_view_count": null,
            "_view_module": "@jupyter-widgets/base",
            "_view_module_version": "1.2.0",
            "_view_name": "LayoutView",
            "align_content": null,
            "align_items": null,
            "align_self": null,
            "border": null,
            "bottom": null,
            "display": null,
            "flex": null,
            "flex_flow": null,
            "grid_area": null,
            "grid_auto_columns": null,
            "grid_auto_flow": null,
            "grid_auto_rows": null,
            "grid_column": null,
            "grid_gap": null,
            "grid_row": null,
            "grid_template_areas": null,
            "grid_template_columns": null,
            "grid_template_rows": null,
            "height": null,
            "justify_content": null,
            "justify_items": null,
            "left": null,
            "margin": null,
            "max_height": null,
            "max_width": null,
            "min_height": null,
            "min_width": null,
            "object_fit": null,
            "object_position": null,
            "order": null,
            "overflow": null,
            "overflow_x": null,
            "overflow_y": null,
            "padding": null,
            "right": null,
            "top": null,
            "visibility": null,
            "width": null
          }
        },
        "1ac6d4eb4a9b483ba70dfc6bf318e0c1": {
          "model_module": "@jupyter-widgets/controls",
          "model_name": "ToggleButtonsStyleModel",
          "model_module_version": "1.5.0",
          "state": {
            "_model_module": "@jupyter-widgets/controls",
            "_model_module_version": "1.5.0",
            "_model_name": "ToggleButtonsStyleModel",
            "_view_count": null,
            "_view_module": "@jupyter-widgets/base",
            "_view_module_version": "1.2.0",
            "_view_name": "StyleView",
            "button_width": "",
            "description_width": "",
            "font_weight": ""
          }
        },
        "f0e96969a84544939bc571f82a6d1f6b": {
          "model_module": "@jupyter-widgets/controls",
          "model_name": "LabelModel",
          "model_module_version": "1.5.0",
          "state": {
            "_dom_classes": [],
            "_model_module": "@jupyter-widgets/controls",
            "_model_module_version": "1.5.0",
            "_model_name": "LabelModel",
            "_view_count": null,
            "_view_module": "@jupyter-widgets/controls",
            "_view_module_version": "1.5.0",
            "_view_name": "LabelView",
            "description": "",
            "description_tooltip": null,
            "layout": "IPY_MODEL_e00ae48a618840779137a7638587f31f",
            "placeholder": "​",
            "style": "IPY_MODEL_c913211c13aa40708b6fe8334b8902d0",
            "value": "Have you correctly tagged all scanned files?"
          }
        },
        "e00ae48a618840779137a7638587f31f": {
          "model_module": "@jupyter-widgets/base",
          "model_name": "LayoutModel",
          "model_module_version": "1.2.0",
          "state": {
            "_model_module": "@jupyter-widgets/base",
            "_model_module_version": "1.2.0",
            "_model_name": "LayoutModel",
            "_view_count": null,
            "_view_module": "@jupyter-widgets/base",
            "_view_module_version": "1.2.0",
            "_view_name": "LayoutView",
            "align_content": null,
            "align_items": null,
            "align_self": null,
            "border": null,
            "bottom": null,
            "display": null,
            "flex": null,
            "flex_flow": null,
            "grid_area": null,
            "grid_auto_columns": null,
            "grid_auto_flow": null,
            "grid_auto_rows": null,
            "grid_column": null,
            "grid_gap": null,
            "grid_row": null,
            "grid_template_areas": null,
            "grid_template_columns": null,
            "grid_template_rows": null,
            "height": null,
            "justify_content": null,
            "justify_items": null,
            "left": null,
            "margin": null,
            "max_height": null,
            "max_width": null,
            "min_height": null,
            "min_width": null,
            "object_fit": null,
            "object_position": null,
            "order": null,
            "overflow": null,
            "overflow_x": null,
            "overflow_y": null,
            "padding": null,
            "right": null,
            "top": null,
            "visibility": null,
            "width": null
          }
        },
        "c913211c13aa40708b6fe8334b8902d0": {
          "model_module": "@jupyter-widgets/controls",
          "model_name": "DescriptionStyleModel",
          "model_module_version": "1.5.0",
          "state": {
            "_model_module": "@jupyter-widgets/controls",
            "_model_module_version": "1.5.0",
            "_model_name": "DescriptionStyleModel",
            "_view_count": null,
            "_view_module": "@jupyter-widgets/base",
            "_view_module_version": "1.2.0",
            "_view_name": "StyleView",
            "description_width": ""
          }
        },
        "52bcd7ec2cb34c72807a45b99c622b1c": {
          "model_module": "@jupyter-widgets/controls",
          "model_name": "ToggleButtonsModel",
          "model_module_version": "1.5.0",
          "state": {
            "_dom_classes": [],
            "_model_module": "@jupyter-widgets/controls",
            "_model_module_version": "1.5.0",
            "_model_name": "ToggleButtonsModel",
            "_options_labels": [
              "No",
              "Yes"
            ],
            "_view_count": null,
            "_view_module": "@jupyter-widgets/controls",
            "_view_module_version": "1.5.0",
            "_view_name": "ToggleButtonsView",
            "button_style": "info",
            "description": "",
            "description_tooltip": null,
            "disabled": false,
            "icons": [],
            "index": 0,
            "layout": "IPY_MODEL_090437b1bb3949519827f4b965b271f0",
            "style": "IPY_MODEL_ac8f5be80270450ab8fecfa8fdfcf556",
            "tooltips": []
          }
        },
        "090437b1bb3949519827f4b965b271f0": {
          "model_module": "@jupyter-widgets/base",
          "model_name": "LayoutModel",
          "model_module_version": "1.2.0",
          "state": {
            "_model_module": "@jupyter-widgets/base",
            "_model_module_version": "1.2.0",
            "_model_name": "LayoutModel",
            "_view_count": null,
            "_view_module": "@jupyter-widgets/base",
            "_view_module_version": "1.2.0",
            "_view_name": "LayoutView",
            "align_content": null,
            "align_items": null,
            "align_self": null,
            "border": null,
            "bottom": null,
            "display": null,
            "flex": null,
            "flex_flow": null,
            "grid_area": null,
            "grid_auto_columns": null,
            "grid_auto_flow": null,
            "grid_auto_rows": null,
            "grid_column": null,
            "grid_gap": null,
            "grid_row": null,
            "grid_template_areas": null,
            "grid_template_columns": null,
            "grid_template_rows": null,
            "height": null,
            "justify_content": null,
            "justify_items": null,
            "left": null,
            "margin": null,
            "max_height": null,
            "max_width": null,
            "min_height": null,
            "min_width": null,
            "object_fit": null,
            "object_position": null,
            "order": null,
            "overflow": null,
            "overflow_x": null,
            "overflow_y": null,
            "padding": null,
            "right": null,
            "top": null,
            "visibility": null,
            "width": null
          }
        },
        "ac8f5be80270450ab8fecfa8fdfcf556": {
          "model_module": "@jupyter-widgets/controls",
          "model_name": "ToggleButtonsStyleModel",
          "model_module_version": "1.5.0",
          "state": {
            "_model_module": "@jupyter-widgets/controls",
            "_model_module_version": "1.5.0",
            "_model_name": "ToggleButtonsStyleModel",
            "_view_count": null,
            "_view_module": "@jupyter-widgets/base",
            "_view_module_version": "1.2.0",
            "_view_name": "StyleView",
            "button_width": "",
            "description_width": "",
            "font_weight": ""
          }
        },
        "e0d14d416ce5408da18ed3740efb6d77": {
          "model_module": "@jupyter-widgets/controls",
          "model_name": "ButtonModel",
          "model_module_version": "1.5.0",
          "state": {
            "_dom_classes": [],
            "_model_module": "@jupyter-widgets/controls",
            "_model_module_version": "1.5.0",
            "_model_name": "ButtonModel",
            "_view_count": null,
            "_view_module": "@jupyter-widgets/controls",
            "_view_module_version": "1.5.0",
            "_view_name": "ButtonView",
            "button_style": "success",
            "description": "Run",
            "disabled": false,
            "icon": "",
            "layout": "IPY_MODEL_8ab1728dac5f4e5d816ab0b7137b6487",
            "style": "IPY_MODEL_00818fa8724e4d268877062053d277bd",
            "tooltip": ""
          }
        },
        "8ab1728dac5f4e5d816ab0b7137b6487": {
          "model_module": "@jupyter-widgets/base",
          "model_name": "LayoutModel",
          "model_module_version": "1.2.0",
          "state": {
            "_model_module": "@jupyter-widgets/base",
            "_model_module_version": "1.2.0",
            "_model_name": "LayoutModel",
            "_view_count": null,
            "_view_module": "@jupyter-widgets/base",
            "_view_module_version": "1.2.0",
            "_view_name": "LayoutView",
            "align_content": null,
            "align_items": null,
            "align_self": null,
            "border": null,
            "bottom": null,
            "display": null,
            "flex": null,
            "flex_flow": null,
            "grid_area": null,
            "grid_auto_columns": null,
            "grid_auto_flow": null,
            "grid_auto_rows": null,
            "grid_column": null,
            "grid_gap": null,
            "grid_row": null,
            "grid_template_areas": null,
            "grid_template_columns": null,
            "grid_template_rows": null,
            "height": null,
            "justify_content": null,
            "justify_items": null,
            "left": null,
            "margin": null,
            "max_height": null,
            "max_width": null,
            "min_height": null,
            "min_width": null,
            "object_fit": null,
            "object_position": null,
            "order": null,
            "overflow": null,
            "overflow_x": null,
            "overflow_y": null,
            "padding": null,
            "right": null,
            "top": null,
            "visibility": null,
            "width": null
          }
        },
        "00818fa8724e4d268877062053d277bd": {
          "model_module": "@jupyter-widgets/controls",
          "model_name": "ButtonStyleModel",
          "model_module_version": "1.5.0",
          "state": {
            "_model_module": "@jupyter-widgets/controls",
            "_model_module_version": "1.5.0",
            "_model_name": "ButtonStyleModel",
            "_view_count": null,
            "_view_module": "@jupyter-widgets/base",
            "_view_module_version": "1.2.0",
            "_view_name": "StyleView",
            "button_color": null,
            "font_weight": ""
          }
        }
      }
    }
  },
  "nbformat": 4,
  "nbformat_minor": 0
}